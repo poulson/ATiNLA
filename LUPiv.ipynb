{
 "metadata": {
  "kernelspec": {
   "codemirror_mode": "julia",
   "display_name": "Julia",
   "language": "julia",
   "name": "julia"
  },
  "language": "Julia",
  "name": "",
  "signature": "sha256:64faab3d2b58ee658393026f9e70f689ecc9ff1f2c213093bacc793db3cfaeab"
 },
 "nbformat": 3,
 "nbformat_minor": 0,
 "worksheets": [
  {
   "cells": [
    {
     "cell_type": "markdown",
     "metadata": {},
     "source": [
      "# Blocked and unblocked LU factorizations\n",
      "\n",
      "While the general form of an LU factorization takes the form\n",
      "\n",
      "$$ P A Q^T = L U, $$\n",
      "\n",
      "where $P$ and $Q$ are permutation matrices, $L$ is unit-diagonal and lower triangular, and $U$ is upper-triangular, there is an entire family of algorithms which differs with respect to the restrictions placed on the permutation matrices, $P$ and $Q$, as well as in how the floating-point operations are ordered. \n",
      "\n",
      "In the simplest case, where $P = Q = I$, such a decomposition is called an *LU factorization without pivoting*, and, while simple to derive an implement, the factorization is well-known not to exist, or, more generally, to be stable, for all square matrices. The $2 \\times 2$ matrix\n",
      "\n",
      "$$ \\begin{pmatrix} 0 & 1 \\\\ 1 & 1 \\end{pmatrix} $$\n",
      "\n",
      "is a classic example of a non-singular matrix where an LU factorization without pivoting fails.\n",
      "\n",
      "The most common algorithm, *LU factorization with partial pivoting*, restricts itself to the case where $Q=I$ and builds up $P$ as a product of row swaps which dynamically permutes the entry on or below the $k$'th original pivot candidate with maximum absolute value into position as the factorization progresses. While well-known examples dating back to Wilkinson show where this technique can fail, it is successful for the vast-majority of practical matrices and is used instead of more robust schemes due to its amenability to high-performance blocked algorithms, which we implement and demonstrate below.\n",
      "\n",
      "The other well-known cases included *LU factorization with full pivoting* which, rather than only searching within the column below the original pivot candidate, searches within the entire bottom-right quadrant of the matrix, typically performing both a row and column swap. Since such a scheme would necessarily incur a cubic number of comparisons, a *rook pivoting* scheme, named after the movements of the chess piece, is often used as a compromise between partial and full pivoting, with the idea being to alternate between searching within rows and columns of the matrix for the maximum absolute value until a value is found which is maximal in both its row and column."
     ]
    },
    {
     "cell_type": "code",
     "collapsed": false,
     "input": [
      "# Wilkinson's example of a matrix which causes 2^(n-1) element growth\n",
      "function GEPPGrowth(n)\n",
      "    A = tril(-ones(n,n),-1) + eye(n,n)\n",
      "    A[:,n] = -ones(n)\n",
      "    A\n",
      "end\n",
      "\n",
      "n = 1000;\n",
      "\n",
      "AWilk = GEPPGrowth(n);\n",
      "ARand = randn(n,n);\n",
      "AWilkNorm=norm(AWilk);\n",
      "ARandNorm=norm(ARand);\n",
      "println(\"|| AWilk ||_2 = $AWilkNorm\")\n",
      "println(\"|| ARand ||_2 = $ARandNorm\")\n",
      "\n",
      "# Build a random right-hand side\n",
      "b = randn(n);\n",
      "bNorm = norm(b);\n",
      "println(\"|| b ||_2 = $bNorm\")\n",
      "\n",
      "function LUGFlops(n,time)\n",
      "    (2.*n*n*n)/(3.*time*1.e9)\n",
      "end\n",
      "\n",
      "function RelError(AOrig,ALU,b,p,q)\n",
      "    m,n = size(AOrig)\n",
      "    if m != n\n",
      "        error(\"Assumed a square matrix for simplicity\")\n",
      "    end\n",
      "    \n",
      "    L = tril(ALU,-1) + eye(n,n)\n",
      "    U = triu(ALU)\n",
      "    relDecompErr = norm(AOrig[p,q] - L*U) / norm(AOrig)\n",
      "    \n",
      "    x = U\\(L\\b[p])\n",
      "    qInv = zeros(n,1)\n",
      "    for j=1:n\n",
      "        qInv[q[j]] = j\n",
      "    end\n",
      "    x = x[qInv]\n",
      "    relResidErr = norm(b-AOrig*x)\n",
      "    \n",
      "    relDecompErr, relResidErr\n",
      "end"
     ],
     "language": "python",
     "metadata": {},
     "outputs": [
      {
       "output_type": "stream",
       "stream": "stdout",
       "text": [
        "|| AWilk ||_2 = 636.3030979716511\n",
        "|| ARand ||_2 = 62.61678382085049\n",
        "|| b ||_2 = 31.40297059209383\n"
       ]
      },
      {
       "metadata": {},
       "output_type": "pyout",
       "prompt_number": 1,
       "text": [
        "RelError (generic function with 1 method)"
       ]
      }
     ],
     "prompt_number": 1
    },
    {
     "cell_type": "markdown",
     "metadata": {},
     "source": [
      "While it is not advisable to make use of unpivoted LU factorizations for the majority of nonsymmetric matrices, the algorithm can be quickly derived and implemented, and it is of interest to compare its accuracy to that of the pivoted schemes implemented later in this notebook.\n",
      "\n",
      "We begin by partitioning the expression $A = L U$ in a manner which exposes the top-left entry of each matrix, \n",
      "\n",
      "$$ \\begin{pmatrix} \\alpha_{1,1} & a_{1,2} \\\\ a_{2,1} & A_{2,2} \\end{pmatrix} = \\begin{pmatrix} 1 & 0 \\\\ l_{2,1} & L_{2,2} \\end{pmatrix} \\begin{pmatrix} \\upsilon_{1,1} & u_{1,2} \\\\ 0 & U_{2,2} \\end{pmatrix} = \\begin{pmatrix} \\upsilon_{1,1} & u_{1,2} \\\\ \\upsilon_{1,1} l_{2,1} & l_{2,1} u_{1,2} + L_{2,2} U_{2,2} \\end{pmatrix}. $$\n",
      "\n",
      "Using the standard LAPACK convention of overwriting the strictly lower triangle of $A$ with the strictly lower-triangle of the unit-diagonal lower-triangular matrix $L$, and the upper-triangle of $A$ with the upper-triangular matrix $U$, it is clear that no work need be performed to overwrite $\\alpha_{1,1}$ with $\\upsilon_{1,1}$ or $a_{1,2}$ with $u_{1,2}$. However, computing $l_{2,1}$ requires dividing $a_{2,1}$ by $\\upsilon_{1,1}$, and the *right-looking* algorithm involves manipulating the relation $A_{2,2} = l_{2,1} u_{1,2} + L_{2,2} U_{2,2}$ by ovewriting $A_{2,2}$ with the Schur complement $A_{2,2} - l_{2,1} u_{1,2} = L_{2,2} U_{2,2}$. At this point, the factorization can be completed by recursing on the updated contents of $A_{2,2}$, and, in practice, this is implemented via the following ``for`` loop rather than via recursion."
     ]
    },
    {
     "cell_type": "code",
     "collapsed": false,
     "input": [
      "function LUUnb(A)\n",
      "    m,n=size(A)\n",
      "    for k=1:min(m,n)\n",
      "        A[k+1:end,k] /= A[k,k]\n",
      "        A[k+1:end,k+1:end] -= A[k+1:end,k]*A[k,k+1:end]\n",
      "    end\n",
      "end"
     ],
     "language": "python",
     "metadata": {},
     "outputs": [
      {
       "metadata": {},
       "output_type": "pyout",
       "prompt_number": 2,
       "text": [
        "LUUnb (generic function with 1 method)"
       ]
      }
     ],
     "prompt_number": 2
    },
    {
     "cell_type": "code",
     "collapsed": false,
     "input": [
      "println(\"Starting unpivoted unblocked LU factorization\")\n",
      "A = copy(ARand);\n",
      "tic();\n",
      "LUUnb(A);\n",
      "unbTime=toq();\n",
      "unbGFlops=LUGFlops(n,unbTime);\n",
      "println(\"Unblocked algorithm: $unbTime seconds, $unbGFlops GFlops\")\n",
      "\n",
      "relDecompErr,relResidErr = RelError(ARand,A,b,[1:n],[1:n])\n",
      "println(\"|| A - L U || / || A || = $relDecompErr\")\n",
      "println(\"|| b - A x ||_2 / || b ||_2 = $relResidErr\")"
     ],
     "language": "python",
     "metadata": {},
     "outputs": [
      {
       "output_type": "stream",
       "stream": "stdout",
       "text": [
        "Starting unpivoted unblocked LU factorization\n",
        "Unblocked algorithm: 5.923466332 seconds, 0.11254671324207109 GFlops\n",
        "|| A - L U || / || A || = 6.212199508014952e-13\n",
        "|| b - A x ||_2 / || b ||_2 = 1.652903744342848e-8\n"
       ]
      }
     ],
     "prompt_number": 3
    },
    {
     "cell_type": "markdown",
     "metadata": {},
     "source": [
      "$$ \\begin{pmatrix} A_{1,1} & A_{1,2} \\\\ A_{2,1} & A_{2,2} \\end{pmatrix} = \\begin{pmatrix} L_{1,1} & 0 \\\\ L_{2,1} & L_{2,2} \\end{pmatrix} \\begin{pmatrix} U_{1,1} & U_{1,2} \\\\ 0 & U_{2,2} \\end{pmatrix} = \\begin{pmatrix} L_{1,1} U_{1,1} & L_{1,1} U_{1,2} \\\\ L_{2,1} U_{1,1} & L_{2,1} U_{1,2} + L_{2,2} U_{2,2} \\end{pmatrix}. $$"
     ]
    },
    {
     "cell_type": "code",
     "collapsed": false,
     "input": [
      "function LU(A,bsize)\n",
      "    m, n = size(A)\n",
      "    if m != n\n",
      "        error(\"Assumed a square matrix for simplicity\");\n",
      "    end\n",
      "    for k=1:bsize:n\n",
      "        nb=min(n-k+1,bsize)\n",
      "        ind1 = k:k+nb-1\n",
      "        ind2 = k+nb:n\n",
      "        A11 = sub(A,ind1,ind1)\n",
      "        A12 = sub(A,ind1,ind2)\n",
      "        A21 = sub(A,ind2,ind1)\n",
      "        A22 = sub(A,ind2,ind2)\n",
      "\n",
      "        LUUnb(A11)\n",
      "\n",
      "        # A21 := A21 inv(U11)\n",
      "        BLAS.trsm!('R','U','N','N',1.,A11,A21)\n",
      "\n",
      "        # A12 := inv(L11) A12\n",
      "        BLAS.trsm!('L','L','N','U',1.,A11,A12)\n",
      "\n",
      "        # A22 := A22 - A21*A12\n",
      "        BLAS.gemm!('N','N',-1.,A21,A12,1.,A22)\n",
      "    end\n",
      "end"
     ],
     "language": "python",
     "metadata": {},
     "outputs": [
      {
       "metadata": {},
       "output_type": "pyout",
       "prompt_number": 4,
       "text": [
        "LU (generic function with 1 method)"
       ]
      }
     ],
     "prompt_number": 4
    },
    {
     "cell_type": "code",
     "collapsed": false,
     "input": [
      "println(\"Starting unpivoted blocked LU factorization\")\n",
      "A = copy(ARand);\n",
      "tic();\n",
      "LU(A,96);\n",
      "blockTime=toq();\n",
      "blockGFlops=LUGFlops(n,blockTime);\n",
      "println(\"Blocked algorithm: $blockTime seconds, $blockGFlops GFlops\")\n",
      "\n",
      "relDecompErr, relResidErr = RelError(ARand,A,b,[1:n],[1:n]);\n",
      "println(\"|| A - L U || / || A || = $relDecompErr\")\n",
      "println(\"|| b - A x ||_2 / || b ||_2 = $relResidErr\")"
     ],
     "language": "python",
     "metadata": {},
     "outputs": [
      {
       "output_type": "stream",
       "stream": "stdout",
       "text": [
        "Starting unpivoted blocked LU factorization\n",
        "Blocked algorithm: 0.540357676 seconds, 1.233750710458431 GFlops\n",
        "|| A - L U || / || A || = 6.316951933620613e-13\n",
        "|| b - A x ||_2 / || b ||_2 = 5.882171707379947e-9\n"
       ]
      }
     ],
     "prompt_number": 5
    },
    {
     "cell_type": "code",
     "collapsed": false,
     "input": [
      "function LUPartialUnb(A)\n",
      "    m,n=size(A)\n",
      "    p = [1:m]\n",
      "    for k=1:min(m,n)\n",
      "        # Search for the maximum entry in A(k:end,k)\n",
      "        iPiv, pivVal = k, abs(A[k,k])\n",
      "        for i=k:m\n",
      "            if abs(A[i,k]) > pivVal\n",
      "                iPiv, pivVal = i, abs(A[i,k])\n",
      "            end\n",
      "        end\n",
      "\n",
      "        # Swap A[k,:] with A[iPiv,:] and accumulate the permutations in p\n",
      "        A[[k,iPiv],:] = A[[iPiv,k],:]\n",
      "        p[[k,iPiv]  ] = p[[iPiv,k]  ]\n",
      "\n",
      "        A[k+1:end,k] /= A[k,k]\n",
      "        A[k+1:end,k+1:end] -= A[k+1:end,k]*A[k,k+1:end]\n",
      "    end\n",
      "    p\n",
      "end"
     ],
     "language": "python",
     "metadata": {},
     "outputs": [
      {
       "metadata": {},
       "output_type": "pyout",
       "prompt_number": 6,
       "text": [
        "LUPartialUnb (generic function with 1 method)"
       ]
      }
     ],
     "prompt_number": 6
    },
    {
     "cell_type": "code",
     "collapsed": false,
     "input": [
      "println(\"Starting unblocked partially-pivoted LU\")\n",
      "A = copy(ARand);\n",
      "tic();\n",
      "p = LUPartialUnb(A);\n",
      "unbTime = toq();\n",
      "unbGFlops = LUGFlops(n,unbTime);\n",
      "println(\"Unblocked algorithm: $unbTime seconds, $unbGFlops GFlops\")\n",
      "\n",
      "relDecompErr, relResidErr = RelError(ARand,A,b,p,[1:n]);\n",
      "println(\"|| P A - L U || / || A ||   = $relDecompErr\")\n",
      "println(\"|| b - A x ||_2 / || b ||_2 = $relResidErr\")"
     ],
     "language": "python",
     "metadata": {},
     "outputs": [
      {
       "output_type": "stream",
       "stream": "stdout",
       "text": [
        "Starting unblocked partially-pivoted LU\n",
        "Unblocked algorithm: 5.604992821 seconds, 0.11894157369281431 GFlops\n",
        "|| P A - L U || / || A ||   = 5.0404139298365175e-15\n",
        "|| b - A x ||_2 / || b ||_2 = 5.3194861132102496e-11\n"
       ]
      }
     ],
     "prompt_number": 7
    },
    {
     "cell_type": "code",
     "collapsed": false,
     "input": [
      "function LUPartialPanel(A)\n",
      "    m,n=size(A)\n",
      "    p=[1:m]\n",
      "    for k=1:min(m,n)\n",
      "        # Search for the maximum entry in A(k:end,k)\n",
      "        iPiv, pivVal = k, abs(A[k,k])\n",
      "        for i=k:m\n",
      "            if abs(A[i,k]) > pivVal\n",
      "                iPiv, pivVal = i, abs(A[i,k])\n",
      "            end\n",
      "        end\n",
      "\n",
      "        # Swap A[k,:] with A[iPiv,:] and accumulate the permutations in p\n",
      "        A[[k,iPiv],:] = A[[iPiv,k],:]\n",
      "        p[[k,iPiv]  ] = p[[iPiv,k]  ]\n",
      "\n",
      "        A[k+1:end,k] /= A[k,k]\n",
      "        A[k+1:end,k+1:end] -= A[k+1:end,k]*A[k,k+1:end]\n",
      "    end\n",
      "    p\n",
      "end\n",
      "\n",
      "function LUPartial(A,bsize)\n",
      "    m, n = size(A)\n",
      "    if m != n\n",
      "        error(\"Assumed a square matrix for simplicity\")\n",
      "    end\n",
      "    p = [1:n]\n",
      "    for k=1:bsize:n\n",
      "        nb=min(n-k+1,bsize)\n",
      "        ind0 = 1:k-1\n",
      "        ind1 = k:k+nb-1\n",
      "        ind2 = k+nb:n\n",
      "        indB = k:n\n",
      "        A11 = sub(A,ind1,ind1)\n",
      "        A12 = sub(A,ind1,ind2)\n",
      "        A21 = sub(A,ind2,ind1)\n",
      "        A22 = sub(A,ind2,ind2)\n",
      "        AB0 = sub(A,indB,ind0)\n",
      "        AB1 = sub(A,indB,ind1)\n",
      "        AB2 = sub(A,indB,ind2)\n",
      "        pB = sub(p,indB)\n",
      "\n",
      "        # Perform the pivoted panel factorization of AB = [A11;A21]\n",
      "        pPan = LUPartialPanel(AB1)\n",
      "\n",
      "        # Apply the permutations used for factoring AB = [A11;A21]\n",
      "        AB0[:,:] = AB0[pPan,:]\n",
      "        AB2[:,:] = AB2[pPan,:]\n",
      "        pB[:] = pB[pPan]\n",
      "\n",
      "        # A12 := inv(L11) A12\n",
      "        BLAS.trsm!('L','L','N','U',1.,A11,A12)\n",
      "\n",
      "        # A22 := A22 - A21*A12\n",
      "        BLAS.gemm!('N','N',-1.,A21,A12,1.,A22)\n",
      "    end\n",
      "    p\n",
      "end"
     ],
     "language": "python",
     "metadata": {},
     "outputs": [
      {
       "metadata": {},
       "output_type": "pyout",
       "prompt_number": 8,
       "text": [
        "LUPartial (generic function with 1 method)"
       ]
      }
     ],
     "prompt_number": 8
    },
    {
     "cell_type": "code",
     "collapsed": false,
     "input": [
      "# Run the blocked code\n",
      "println(\"Starting blocked partially-pivoted LU\")\n",
      "A = copy(ARand);\n",
      "tic();\n",
      "p = LUPartial(A,96);\n",
      "blockTime = toq();\n",
      "blockGFlops = LUGFlops(n,blockTime);\n",
      "println(\"Blocked algorithm: $blockTime seconds, $blockGFlops GFlops\")\n",
      "\n",
      "relDecompErr, relResidErr = RelError(ARand,A,b,p,[1:n]);\n",
      "println(\"|| P A - L U || / || A || = $relDecompErr\")\n",
      "println(\"|| b - A x ||_2 / || b ||_2 = $relResidErr\")"
     ],
     "language": "python",
     "metadata": {},
     "outputs": [
      {
       "output_type": "stream",
       "stream": "stdout",
       "text": [
        "Starting blocked partially-pivoted LU\n",
        "Blocked algorithm: 0.892429976 seconds, 0.7470240630584406 GFlops\n",
        "|| P A - L U || / || A || = 5.0404139298365175e-15\n",
        "|| b - A x ||_2 / || b ||_2 = 5.3194861132102496e-11\n"
       ]
      }
     ],
     "prompt_number": 9
    },
    {
     "cell_type": "code",
     "collapsed": false,
     "input": [
      "function LURook(A)\n",
      "    m,n=size(A)\n",
      "    p = [1:m]\n",
      "    q = [1:n]\n",
      "    totalPivCmps=0\n",
      "    totalRookMoves=0\n",
      "    for k=1:min(m,n)\n",
      "        # Search for an entry that is the maximum in its row and col\n",
      "        iPiv,jPiv,pivVal = k,k,abs(A[k,k])\n",
      "        rookMove=0\n",
      "        while true\n",
      "            rookMove += 1\n",
      "            if rookMove % 2 == 1\n",
      "                iOld=iPiv\n",
      "                for i=k:m\n",
      "                    if abs(A[i,jPiv]) > pivVal\n",
      "                        iPiv,pivVal = i,abs(A[i,jPiv])\n",
      "                    end\n",
      "                end\n",
      "                totalPivCmps += m-k+1\n",
      "                iPiv==iOld && rookMove != 1 && break\n",
      "            else\n",
      "                jOld=jPiv\n",
      "                for j=k:n\n",
      "                    if abs(A[iPiv,j]) > pivVal\n",
      "                        jPiv,pivVal = j,abs(A[iPiv,j])\n",
      "                    end\n",
      "                end\n",
      "                totalPivCmps += n-k+1\n",
      "                jPiv==jOld && break\n",
      "            end\n",
      "        end\n",
      "        totalRookMoves += rookMove\n",
      "\n",
      "        # Pivot the previous pieces of L and update p\n",
      "        A[[k,iPiv],:] = A[[iPiv,k],:]\n",
      "        p[[k,iPiv]  ] = p[[iPiv,k]  ]\n",
      "\n",
      "        # Pivot U\n",
      "        A[:,[k,jPiv]] = A[:,[jPiv,k]]\n",
      "        q[  [k,jPiv]] = q[  [jPiv,k]]\n",
      "\n",
      "        A[k+1:end,k] /= A[k,k]\n",
      "        A[k+1:end,k+1:end] -= A[k+1:end,k]*A[k,k+1:end]\n",
      "    end\n",
      "    println(\"Total rook movements: $totalRookMoves\")\n",
      "    println(\"Total pivot comparisons: $totalPivCmps\")\n",
      "    p, q\n",
      "end"
     ],
     "language": "python",
     "metadata": {},
     "outputs": [
      {
       "metadata": {},
       "output_type": "pyout",
       "prompt_number": 10,
       "text": [
        "LURook (generic function with 1 method)"
       ]
      }
     ],
     "prompt_number": 10
    },
    {
     "cell_type": "code",
     "collapsed": false,
     "input": [
      "println(\"Starting rook-pivoted LU\")\n",
      "A = copy(ARand);\n",
      "tic();\n",
      "p, q = LURook(A);\n",
      "rookTime = toq();\n",
      "rookGFlops = LUGFlops(n,rookTime);\n",
      "println(\"Rook algorithm: $rookTime seconds, $rookGFlops GFlops\")\n",
      "\n",
      "relDecompErr, relResidErr = RelError(ARand,A,b,p,q);\n",
      "println(\"|| P A Q' - L U || / || A || = $relDecompErr\")\n",
      "println(\"|| b - A x ||_2 / || b ||_2 = $relResidErr\")"
     ],
     "language": "python",
     "metadata": {},
     "outputs": [
      {
       "output_type": "stream",
       "stream": "stdout",
       "text": [
        "Starting rook-pivoted LU\n",
        "Total rook movements: 3385\n",
        "Total pivot comparisons: 1724237\n",
        "Rook algorithm: 5.590759418 seconds, 0.11924438467523173 GFlops\n",
        "|| P A Q' - L U || / || A || = 3.8940879784412334e-15\n",
        "|| b - A x ||_2 / || b ||_2 = 3.5049293986779616e-11\n"
       ]
      }
     ],
     "prompt_number": 11
    },
    {
     "cell_type": "code",
     "collapsed": false,
     "input": [
      "function LUFull(A)\n",
      "    m,n=size(A)\n",
      "    p = [1:m]\n",
      "    q = [1:n]\n",
      "    for k=1:min(m,n)\n",
      "        # Search for an entry that is the maximum in the remaining submatrix\n",
      "        iPiv,jPiv,pivVal = k,k,abs(A[k,k])\n",
      "        for j=k:n\n",
      "            for i=k:m\n",
      "                if abs(A[i,j]) > pivVal\n",
      "                    iPiv,jPiv,pivVal = i,j,abs(A[i,j])\n",
      "                end\n",
      "            end\n",
      "        end\n",
      "\n",
      "        # Pivot the previous pieces of L and update p\n",
      "        A[[k,iPiv],:] = A[[iPiv,k],:]\n",
      "        p[[k,iPiv]  ] = p[[iPiv,k]  ]\n",
      "\n",
      "        # Pivot U\n",
      "        A[:,[k,jPiv]] = A[:,[jPiv,k]]\n",
      "        q[  [k,jPiv]] = q[  [jPiv,k]]\n",
      "\n",
      "        A[k+1:end,k] /= A[k,k]\n",
      "        A[k+1:end,k+1:end] -= A[k+1:end,k]*A[k,k+1:end]\n",
      "    end\n",
      "    p, q\n",
      "end"
     ],
     "language": "python",
     "metadata": {},
     "outputs": [
      {
       "metadata": {},
       "output_type": "pyout",
       "prompt_number": 12,
       "text": [
        "LUFull (generic function with 1 method)"
       ]
      }
     ],
     "prompt_number": 12
    },
    {
     "cell_type": "code",
     "collapsed": false,
     "input": [
      "println(\"Starting fully-pivoted LU\")\n",
      "A = copy(ARand);\n",
      "tic();\n",
      "p, q = LUFull(A);\n",
      "fullTime = toq();\n",
      "fullGFlops = LUGFlops(n,fullTime);\n",
      "println(\"Full algorithm: $fullTime seconds, $fullGFlops GFlops\")\n",
      "\n",
      "relDecompErr, relResidErr = RelError(ARand,A,b,p,q);\n",
      "println(\"|| P A Q' - L U || / || A || = $relDecompErr\")\n",
      "println(\"|| b - A x ||_2 / || b ||_2 = $relResidErr\")"
     ],
     "language": "python",
     "metadata": {},
     "outputs": [
      {
       "output_type": "stream",
       "stream": "stdout",
       "text": [
        "Starting fully-pivoted LU\n",
        "Full algorithm: 6.187164463 seconds, 0.10774995083020904 GFlops\n",
        "|| P A Q' - L U || / || A || = 3.348679527152854e-15\n",
        "|| b - A x ||_2 / || b ||_2 = 2.7622053383398007e-11\n"
       ]
      }
     ],
     "prompt_number": 13
    }
   ],
   "metadata": {}
  }
 ]
}