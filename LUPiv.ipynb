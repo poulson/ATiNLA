{
 "metadata": {
  "kernelspec": {
   "codemirror_mode": "julia",
   "display_name": "Julia",
   "language": "julia",
   "name": "julia"
  },
  "language": "Julia",
  "name": "",
  "signature": "sha256:64faab3d2b58ee658393026f9e70f689ecc9ff1f2c213093bacc793db3cfaeab"
 },
 "nbformat": 3,
 "nbformat_minor": 0,
 "worksheets": [
  {
   "cells": [
    {
     "cell_type": "markdown",
     "metadata": {},
     "source": [
      "# Blocked and unblocked LU factorizations\n",
      "\n",
      "While the general form of an LU factorization takes the form\n",
      "\n",
      "$$ P A Q^T = L U, $$\n",
      "\n",
      "where $P$ and $Q$ are permutation matrices, $L$ is unit-diagonal and lower triangular, and $U$ is upper-triangular, there is an entire family of algorithms which differs with respect to the restrictions placed on the permutation matrices, $P$ and $Q$, as well as in how the floating-point operations are ordered. \n",
      "\n",
      "In the simplest case, where $P = Q = I$, such a decomposition is called an *LU factorization without pivoting*, and, while simple to derive an implement, the factorization is well-known not to exist, or, more generally, to be stable, for all square matrices. The $2 \\times 2$ matrix\n",
      "\n",
      "$$ \\begin{pmatrix} 0 & 1 \\\\ 1 & 1 \\end{pmatrix} $$\n",
      "\n",
      "is a classic example of a non-singular matrix where an LU factorization without pivoting fails.\n",
      "\n",
      "The most common algorithm, *LU factorization with partial pivoting*, restricts itself to the case where $Q=I$ and builds up $P$ as a product of row swaps which dynamically permutes the entry on or below the $k$'th original pivot candidate with maximum absolute value into position as the factorization progresses. While well-known examples dating back to Wilkinson show where this technique can fail, it is successful for the vast-majority of practical matrices and is used instead of more robust schemes due to its amenability to high-performance blocked algorithms, which we implement and demonstrate below.\n",
      "\n",
      "The other well-known cases included *LU factorization with full pivoting* which, rather than only searching within the column below the original pivot candidate, searches within the entire bottom-right quadrant of the matrix, typically performing both a row and column swap. Since such a scheme would necessarily incur a cubic number of comparisons, a *rook pivoting* scheme, named after the movements of the chess piece, is often used as a compromise between partial and full pivoting, with the idea being to alternate between searching within rows and columns of the matrix for the maximum absolute value until a value is found which is maximal in both its row and column."
     ]
    },
    {
     "cell_type": "code",
     "collapsed": false,
     "input": [
      "function LUGFlops(n,time)\n",
      "    (2.*n*n*n)/(3.*time*1.e9)\n",
      "end\n",
      "\n",
      "function RelError(A,AFact,b,p,q)\n",
      "    m,n = size(A)\n",
      "    if m != n\n",
      "        error(\"Assumed a square matrix for simplicity\")\n",
      "    end\n",
      "    \n",
      "    x = b[p]\n",
      "    BLAS.trsv!('L','N','U',AFact,x)\n",
      "    BLAS.trsv!('U','N','N',AFact,x)\n",
      "    x = x[invperm(q)]\n",
      "    relResidErr = norm(b-A*x)\n",
      "    \n",
      "    relResidErr\n",
      "end\n",
      "\n",
      "# Wilkinson's example of a matrix which causes 2^(n-1) element growth\n",
      "function GEPPGrowth(n)\n",
      "    A = tril(-ones(n,n),-1) + eye(n,n)\n",
      "    A[:,n] = -ones(n)\n",
      "    A\n",
      "end\n",
      "\n",
      "n = 1000;\n",
      "\n",
      "AWilk = GEPPGrowth(n);\n",
      "ARand = randn(n,n);\n",
      "AWilkNorm=norm(AWilk);\n",
      "ARandNorm=norm(ARand);\n",
      "println(\"|| AWilk ||_2 = $AWilkNorm\")\n",
      "println(\"|| ARand ||_2 = $ARandNorm\")\n",
      "\n",
      "# Build a random right-hand side\n",
      "b = randn(n);\n",
      "bNorm = norm(b);\n",
      "println(\"|| b ||_2 = $bNorm\")"
     ],
     "language": "python",
     "metadata": {},
     "outputs": [
      {
       "output_type": "stream",
       "stream": "stdout",
       "text": [
        "|| AWilk ||_2 = 636.3030979716457\n"
       ]
      },
      {
       "output_type": "stream",
       "stream": "stdout",
       "text": [
        "|| ARand ||_2 = 62.64983778897063\n",
        "|| b ||_2 = 30.860760590220544\n"
       ]
      }
     ],
     "prompt_number": 1
    },
    {
     "cell_type": "markdown",
     "metadata": {},
     "source": [
      "While it is not advisable to make use of unpivoted LU factorizations for the majority of nonsymmetric matrices, the algorithm can be quickly derived and implemented, and it is of interest to compare its accuracy to that of the pivoted schemes implemented later in this notebook.\n",
      "\n",
      "We begin by partitioning the expression $A = L U$ in a manner which exposes the top-left entry of each matrix, \n",
      "\n",
      "$$ \\begin{pmatrix} \\alpha_{1,1} & a_{1,2} \\\\ a_{2,1} & A_{2,2} \\end{pmatrix} = \\begin{pmatrix} 1 & 0 \\\\ l_{2,1} & L_{2,2} \\end{pmatrix} \\begin{pmatrix} \\upsilon_{1,1} & u_{1,2} \\\\ 0 & U_{2,2} \\end{pmatrix} = \\begin{pmatrix} \\upsilon_{1,1} & u_{1,2} \\\\ \\upsilon_{1,1} l_{2,1} & l_{2,1} u_{1,2} + L_{2,2} U_{2,2} \\end{pmatrix}. $$\n",
      "\n",
      "Using the standard LAPACK convention of overwriting the strictly lower triangle of $A$ with the strictly lower-triangle of the unit-diagonal lower-triangular matrix $L$, and the upper-triangle of $A$ with the upper-triangular matrix $U$, it is clear that no work need be performed to overwrite $\\alpha_{1,1}$ with $\\upsilon_{1,1}$ or $a_{1,2}$ with $u_{1,2}$. However, computing $l_{2,1}$ requires dividing $a_{2,1}$ by $\\upsilon_{1,1}$, and the *right-looking* algorithm involves manipulating the relation $A_{2,2} = l_{2,1} u_{1,2} + L_{2,2} U_{2,2}$ by ovewriting $A_{2,2}$ with the Schur complement $A_{2,2} - l_{2,1} u_{1,2} = L_{2,2} U_{2,2}$. At this point, the factorization can be completed by recursing on the updated contents of $A_{2,2}$, and, in practice, this is implemented via the following ``for`` loop rather than via recursion."
     ]
    },
    {
     "cell_type": "code",
     "collapsed": false,
     "input": [
      "function LUUnb!(A)\n",
      "    m,n=size(A)\n",
      "    for k=1:min(m,n)\n",
      "        A[k+1:end,k] /= A[k,k]\n",
      "        A[k+1:end,k+1:end] -= A[k+1:end,k]*A[k,k+1:end]\n",
      "    end\n",
      "end\n",
      "\n",
      "function LUUnb(A)\n",
      "    ACopy = copy(A)\n",
      "    LUUnb!(ACopy)\n",
      "    ACopy\n",
      "end"
     ],
     "language": "python",
     "metadata": {},
     "outputs": [
      {
       "metadata": {},
       "output_type": "pyout",
       "prompt_number": 2,
       "text": [
        "LUUnb (generic function with 1 method)"
       ]
      }
     ],
     "prompt_number": 2
    },
    {
     "cell_type": "code",
     "collapsed": false,
     "input": [
      "function UnbTest(A,b)\n",
      "    # Ensure that LUUnb is compiled\n",
      "    LUUnb(eye(2,2))\n",
      "    \n",
      "    tic()\n",
      "    AFact = LUUnb(A)\n",
      "    time=toq()\n",
      "    GFlops=LUGFlops(n,time)\n",
      "    println(\"Unblocked algorithm: $time seconds, $GFlops GFlops\")\n",
      "\n",
      "    relResidErr = RelError(A,AFact,b,[1:n],[1:n])\n",
      "    println(\"|| b - A x ||_2 / || b ||_2 = $relResidErr\")\n",
      "end\n",
      "\n",
      "println(\"Starting unpivoted unblocked LU factorization\")\n",
      "UnbTest(ARand,b);"
     ],
     "language": "python",
     "metadata": {},
     "outputs": [
      {
       "output_type": "stream",
       "stream": "stdout",
       "text": [
        "Starting unpivoted unblocked LU factorization\n"
       ]
      },
      {
       "output_type": "stream",
       "stream": "stdout",
       "text": [
        "Unblocked algorithm: 3.048352094 seconds, 0.21869739653068654 GFlops"
       ]
      },
      {
       "output_type": "stream",
       "stream": "stdout",
       "text": [
        "\n",
        "|| b - A x ||_2 / || b ||_2 = 1.15090230329816e-9\n"
       ]
      }
     ],
     "prompt_number": 3
    },
    {
     "cell_type": "markdown",
     "metadata": {},
     "source": [
      "$$ \\begin{pmatrix} A_{1,1} & A_{1,2} \\\\ A_{2,1} & A_{2,2} \\end{pmatrix} = \\begin{pmatrix} L_{1,1} & 0 \\\\ L_{2,1} & L_{2,2} \\end{pmatrix} \\begin{pmatrix} U_{1,1} & U_{1,2} \\\\ 0 & U_{2,2} \\end{pmatrix} = \\begin{pmatrix} L_{1,1} U_{1,1} & L_{1,1} U_{1,2} \\\\ L_{2,1} U_{1,1} & L_{2,1} U_{1,2} + L_{2,2} U_{2,2} \\end{pmatrix}. $$"
     ]
    },
    {
     "cell_type": "code",
     "collapsed": false,
     "input": [
      "function LU!(A,bsize=96)\n",
      "    m, n = size(A)\n",
      "    if m != n\n",
      "        error(\"Assumed a square matrix for simplicity\");\n",
      "    end\n",
      "    for k=1:bsize:n\n",
      "        nb=min(n-k+1,bsize)\n",
      "        ind1 = k:k+nb-1\n",
      "        ind2 = k+nb:n\n",
      "        A11 = sub(A,ind1,ind1)\n",
      "        A12 = sub(A,ind1,ind2)\n",
      "        A21 = sub(A,ind2,ind1)\n",
      "        A22 = sub(A,ind2,ind2)\n",
      "\n",
      "        LUUnb!(A11)\n",
      "\n",
      "        # A21 := A21 inv(U11)\n",
      "        BLAS.trsm!('R','U','N','N',1.,A11,A21)\n",
      "\n",
      "        # A12 := inv(L11) A12\n",
      "        BLAS.trsm!('L','L','N','U',1.,A11,A12)\n",
      "\n",
      "        # A22 := A22 - A21*A12\n",
      "        BLAS.gemm!('N','N',-1.,A21,A12,1.,A22)\n",
      "    end\n",
      "end\n",
      "\n",
      "function LU(A,bsize=96)\n",
      "    ACopy = copy(A)\n",
      "    LU!(ACopy,bsize)\n",
      "    ACopy\n",
      "end"
     ],
     "language": "python",
     "metadata": {},
     "outputs": [
      {
       "metadata": {},
       "output_type": "pyout",
       "prompt_number": 4,
       "text": [
        "LU (generic function with 2 methods)"
       ]
      }
     ],
     "prompt_number": 4
    },
    {
     "cell_type": "code",
     "collapsed": false,
     "input": [
      "function BlockTest(A,b,bsize=96)\n",
      "    # Ensure that LU is compiled\n",
      "    LU(eye(2,2),1)\n",
      "    \n",
      "    tic()\n",
      "    AFact = LU(A,bsize)\n",
      "    time=toq()\n",
      "    GFlops=LUGFlops(n,time);\n",
      "    println(\"Blocked algorithm: $time seconds, $GFlops GFlops\")\n",
      "\n",
      "    relResidErr = RelError(A,AFact,b,[1:n],[1:n]);\n",
      "    println(\"|| b - A x ||_2 / || b ||_2 = $relResidErr\")\n",
      "end\n",
      "\n",
      "println(\"Starting unpivoted blocked LU factorization\")\n",
      "BlockTest(ARand,b,96)"
     ],
     "language": "python",
     "metadata": {},
     "outputs": [
      {
       "output_type": "stream",
       "stream": "stdout",
       "text": [
        "Starting unpivoted blocked LU factorization\n"
       ]
      },
      {
       "output_type": "stream",
       "stream": "stdout",
       "text": [
        "Blocked algorithm: 0.076166964 seconds, 8.752701061665878 GFlops"
       ]
      },
      {
       "output_type": "stream",
       "stream": "stdout",
       "text": [
        "\n",
        "|| b - A x ||_2 / || b ||_2 = 1.6387502439218645e-9\n"
       ]
      }
     ],
     "prompt_number": 5
    },
    {
     "cell_type": "code",
     "collapsed": false,
     "input": [
      "function LUPartialUnb!(A)\n",
      "    m,n=size(A)\n",
      "    p = [1:m]\n",
      "    for k=1:min(m,n)\n",
      "        # Search for the maximum entry in A(k:end,k)\n",
      "        iPiv, pivVal = k, abs(A[k,k])\n",
      "        for i=k:m\n",
      "            if abs(A[i,k]) > pivVal\n",
      "                iPiv, pivVal = i, abs(A[i,k])\n",
      "            end\n",
      "        end\n",
      "\n",
      "        # Swap A[k,:] with A[iPiv,:] and accumulate the permutations in p\n",
      "        A[[k,iPiv],:] = A[[iPiv,k],:]\n",
      "        p[[k,iPiv]  ] = p[[iPiv,k]  ]\n",
      "\n",
      "        A[k+1:end,k] /= A[k,k]\n",
      "        A[k+1:end,k+1:end] -= A[k+1:end,k]*A[k,k+1:end]\n",
      "    end\n",
      "    p\n",
      "end\n",
      "\n",
      "function LUPartialUnb(A)\n",
      "    ACopy = copy(A)\n",
      "    p = LUPartialUnb!(ACopy)\n",
      "    ACopy, p\n",
      "end"
     ],
     "language": "python",
     "metadata": {},
     "outputs": [
      {
       "metadata": {},
       "output_type": "pyout",
       "prompt_number": 6,
       "text": [
        "LUPartialUnb (generic function with 1 method)"
       ]
      }
     ],
     "prompt_number": 6
    },
    {
     "cell_type": "code",
     "collapsed": false,
     "input": [
      "function UnbPartialTest(A,b)\n",
      "    # Ensure that LUPartialUnb is compiled\n",
      "    LUPartialUnb(eye(2,2))\n",
      "    \n",
      "    tic()\n",
      "    AFact, p = LUPartialUnb(A)\n",
      "    time = toq()\n",
      "    GFlops = LUGFlops(n,time);\n",
      "    println(\"Unblocked algorithm: $time seconds, $GFlops GFlops\")\n",
      "\n",
      "    relResidErr = RelError(A,AFact,b,p,[1:n])\n",
      "    println(\"|| b - A x ||_2 / || b ||_2 = $relResidErr\")\n",
      "end\n",
      "\n",
      "println(\"Starting unblocked partially-pivoted LU\")\n",
      "UnbPartialTest(ARand,b);"
     ],
     "language": "python",
     "metadata": {},
     "outputs": [
      {
       "output_type": "stream",
       "stream": "stdout",
       "text": [
        "Starting unblocked partially-pivoted LU\n"
       ]
      },
      {
       "output_type": "stream",
       "stream": "stdout",
       "text": [
        "Unblocked algorithm: 2.911749734 seconds, 0.22895740622283398 GFlops"
       ]
      },
      {
       "output_type": "stream",
       "stream": "stdout",
       "text": [
        "\n",
        "|| b - A x ||_2 / || b ||_2 = 7.502925734222737e-12\n"
       ]
      }
     ],
     "prompt_number": 7
    },
    {
     "cell_type": "code",
     "collapsed": false,
     "input": [
      "function LUPartialPanel!(A)\n",
      "    m,n=size(A)\n",
      "    p=[1:m]\n",
      "    for k=1:min(m,n)\n",
      "        # Search for the maximum entry in A(k:end,k)\n",
      "        iPiv, pivVal = k, abs(A[k,k])\n",
      "        for i=k:m\n",
      "            if abs(A[i,k]) > pivVal\n",
      "                iPiv, pivVal = i, abs(A[i,k])\n",
      "            end\n",
      "        end\n",
      "\n",
      "        # Swap A[k,:] with A[iPiv,:] and accumulate the permutations in p\n",
      "        A[[k,iPiv],:] = A[[iPiv,k],:]\n",
      "        p[[k,iPiv]  ] = p[[iPiv,k]  ]\n",
      "\n",
      "        A[k+1:end,k] /= A[k,k]\n",
      "        A[k+1:end,k+1:end] -= A[k+1:end,k]*A[k,k+1:end]\n",
      "    end\n",
      "    p\n",
      "end\n",
      "\n",
      "function LUPartial!(A,bsize=96)\n",
      "    m, n = size(A)\n",
      "    if m != n\n",
      "        error(\"Assumed a square matrix for simplicity\")\n",
      "    end\n",
      "    p = [1:n]\n",
      "    for k=1:bsize:n\n",
      "        nb=min(n-k+1,bsize)\n",
      "        ind0 = 1:k-1\n",
      "        ind1 = k:k+nb-1\n",
      "        ind2 = k+nb:n\n",
      "        indB = k:n\n",
      "        A11 = sub(A,ind1,ind1)\n",
      "        A12 = sub(A,ind1,ind2)\n",
      "        A21 = sub(A,ind2,ind1)\n",
      "        A22 = sub(A,ind2,ind2)\n",
      "        AB0 = sub(A,indB,ind0)\n",
      "        AB1 = sub(A,indB,ind1)\n",
      "        AB2 = sub(A,indB,ind2)\n",
      "        pB = sub(p,indB)\n",
      "\n",
      "        # Perform the pivoted panel factorization of AB = [A11;A21]\n",
      "        pPan = LUPartialPanel!(AB1)\n",
      "\n",
      "        # Apply the permutations used for factoring AB = [A11;A21]\n",
      "        AB0[:,:] = AB0[pPan,:]\n",
      "        AB2[:,:] = AB2[pPan,:]\n",
      "        pB[:] = pB[pPan]\n",
      "\n",
      "        # A12 := inv(L11) A12\n",
      "        BLAS.trsm!('L','L','N','U',1.,A11,A12)\n",
      "\n",
      "        # A22 := A22 - A21*A12\n",
      "        BLAS.gemm!('N','N',-1.,A21,A12,1.,A22)\n",
      "    end\n",
      "    p\n",
      "end\n",
      "\n",
      "function LUPartial(A,bsize=96)\n",
      "    ACopy = copy(A)\n",
      "    p = LUPartial!(ACopy,bsize)\n",
      "    ACopy, p\n",
      "end"
     ],
     "language": "python",
     "metadata": {},
     "outputs": [
      {
       "metadata": {},
       "output_type": "pyout",
       "prompt_number": 8,
       "text": [
        "LUPartial (generic function with 2 methods)"
       ]
      }
     ],
     "prompt_number": 8
    },
    {
     "cell_type": "code",
     "collapsed": false,
     "input": [
      "function BlockPartialTest(A,b,bsize=96)\n",
      "    # Ensure that LUPartial is compiled\n",
      "    LUPartial(eye(2,2),1)\n",
      "    \n",
      "    tic()\n",
      "    AFact,p = LUPartial(A,96)\n",
      "    time = toq()\n",
      "    GFlops = LUGFlops(n,time)\n",
      "    println(\"Blocked algorithm: $time seconds, $GFlops GFlops\")\n",
      "\n",
      "    relResidErr = RelError(A,AFact,b,p,[1:n])\n",
      "    println(\"|| b - A x ||_2 / || b ||_2 = $relResidErr\")\n",
      "end\n",
      "\n",
      "println(\"Starting blocked partially-pivoted LU\")\n",
      "BlockPartialTest(ARand,b,96);"
     ],
     "language": "python",
     "metadata": {},
     "outputs": [
      {
       "output_type": "stream",
       "stream": "stdout",
       "text": [
        "Starting blocked partially-pivoted LU\n",
        "Blocked algorithm: 0.383927711 seconds, 1.7364380000866013 GFlops"
       ]
      },
      {
       "output_type": "stream",
       "stream": "stdout",
       "text": [
        "\n",
        "|| b - A x ||_2 / || b ||_2 = 8.08796987772146e-12\n"
       ]
      }
     ],
     "prompt_number": 9
    },
    {
     "cell_type": "code",
     "collapsed": false,
     "input": [
      "function LURook!(A)\n",
      "    m,n=size(A)\n",
      "    p = [1:m]\n",
      "    q = [1:n]\n",
      "    totalPivCmps=0\n",
      "    totalRookMoves=0\n",
      "    for k=1:min(m,n)\n",
      "        # Search for an entry that is the maximum in its row and col\n",
      "        iPiv,jPiv,pivVal = k,k,abs(A[k,k])\n",
      "        rookMove=0\n",
      "        while true\n",
      "            rookMove += 1\n",
      "            if rookMove % 2 == 1\n",
      "                iOld=iPiv\n",
      "                for i=k:m\n",
      "                    if abs(A[i,jPiv]) > pivVal\n",
      "                        iPiv,pivVal = i,abs(A[i,jPiv])\n",
      "                    end\n",
      "                end\n",
      "                totalPivCmps += m-k+1\n",
      "                iPiv==iOld && rookMove != 1 && break\n",
      "            else\n",
      "                jOld=jPiv\n",
      "                for j=k:n\n",
      "                    if abs(A[iPiv,j]) > pivVal\n",
      "                        jPiv,pivVal = j,abs(A[iPiv,j])\n",
      "                    end\n",
      "                end\n",
      "                totalPivCmps += n-k+1\n",
      "                jPiv==jOld && break\n",
      "            end\n",
      "        end\n",
      "        totalRookMoves += rookMove\n",
      "\n",
      "        # Pivot the previous pieces of L and update p\n",
      "        A[[k,iPiv],:] = A[[iPiv,k],:]\n",
      "        p[[k,iPiv]  ] = p[[iPiv,k]  ]\n",
      "\n",
      "        # Pivot U\n",
      "        A[:,[k,jPiv]] = A[:,[jPiv,k]]\n",
      "        q[  [k,jPiv]] = q[  [jPiv,k]]\n",
      "\n",
      "        A[k+1:end,k] /= A[k,k]\n",
      "        A[k+1:end,k+1:end] -= A[k+1:end,k]*A[k,k+1:end]\n",
      "    end\n",
      "    println(\"Total rook movements: $totalRookMoves\")\n",
      "    println(\"Total pivot comparisons: $totalPivCmps\")\n",
      "    p, q\n",
      "end\n",
      "\n",
      "function LURook(A)\n",
      "    ACopy = copy(A)\n",
      "    p,q = LURook!(ACopy)\n",
      "    ACopy, p, q\n",
      "end"
     ],
     "language": "python",
     "metadata": {},
     "outputs": [
      {
       "metadata": {},
       "output_type": "pyout",
       "prompt_number": 10,
       "text": [
        "LURook (generic function with 1 method)"
       ]
      }
     ],
     "prompt_number": 10
    },
    {
     "cell_type": "code",
     "collapsed": false,
     "input": [
      "function RookTest(A,b)\n",
      "    # Ensure that LURook is compiled\n",
      "    LURook(eye(2,2))\n",
      "    \n",
      "    tic()\n",
      "    AFact, p, q = LURook(A)\n",
      "    time = toq()\n",
      "    GFlops = LUGFlops(n,time)\n",
      "    println(\"Rook algorithm: $time seconds, $GFlops GFlops\")\n",
      "\n",
      "    relResidErr = RelError(A,AFact,b,p,q)\n",
      "    println(\"|| b - A x ||_2 / || b ||_2 = $relResidErr\")\n",
      "end\n",
      "\n",
      "println(\"Starting rook-pivoted LU\")\n",
      "RookTest(ARand,b);"
     ],
     "language": "python",
     "metadata": {},
     "outputs": [
      {
       "output_type": "stream",
       "stream": "stdout",
       "text": [
        "Starting rook-pivoted LU\n",
        "Total rook movements: 4"
       ]
      },
      {
       "output_type": "stream",
       "stream": "stdout",
       "text": [
        "\n",
        "Total pivot comparisons: 6\n",
        "Total rook movements: 3420"
       ]
      },
      {
       "output_type": "stream",
       "stream": "stdout",
       "text": [
        "\n",
        "Total pivot comparisons: 1740000\n",
        "Rook algorithm: 2.888320877 seconds, 0.2308146134231147 GFlops\n",
        "|| b - A x ||_2 / || b ||_2 = 5.7179100403245656e-12\n"
       ]
      }
     ],
     "prompt_number": 11
    },
    {
     "cell_type": "code",
     "collapsed": false,
     "input": [
      "function LUFull!(A)\n",
      "    m,n=size(A)\n",
      "    p = [1:m]\n",
      "    q = [1:n]\n",
      "    for k=1:min(m,n)\n",
      "        # Search for an entry that is the maximum in the remaining submatrix\n",
      "        iPiv,jPiv,pivVal = k,k,abs(A[k,k])\n",
      "        for j=k:n\n",
      "            for i=k:m\n",
      "                if abs(A[i,j]) > pivVal\n",
      "                    iPiv,jPiv,pivVal = i,j,abs(A[i,j])\n",
      "                end\n",
      "            end\n",
      "        end\n",
      "\n",
      "        # Pivot the previous pieces of L and update p\n",
      "        A[[k,iPiv],:] = A[[iPiv,k],:]\n",
      "        p[[k,iPiv]  ] = p[[iPiv,k]  ]\n",
      "\n",
      "        # Pivot U\n",
      "        A[:,[k,jPiv]] = A[:,[jPiv,k]]\n",
      "        q[  [k,jPiv]] = q[  [jPiv,k]]\n",
      "\n",
      "        A[k+1:end,k] /= A[k,k]\n",
      "        A[k+1:end,k+1:end] -= A[k+1:end,k]*A[k,k+1:end]\n",
      "    end\n",
      "    p, q\n",
      "end\n",
      "\n",
      "function LUFull(A)\n",
      "    ACopy = copy(A)\n",
      "    p, q = LUFull!(ACopy)\n",
      "    ACopy, p, q\n",
      "end"
     ],
     "language": "python",
     "metadata": {},
     "outputs": [
      {
       "metadata": {},
       "output_type": "pyout",
       "prompt_number": 12,
       "text": [
        "LUFull (generic function with 1 method)"
       ]
      }
     ],
     "prompt_number": 12
    },
    {
     "cell_type": "code",
     "collapsed": false,
     "input": [
      "function FullTest(A,b)\n",
      "    # Ensure that LUFull is compiled\n",
      "    LUFull(eye(2,2))\n",
      "    \n",
      "    tic()\n",
      "    AFact, p, q = LUFull(A)\n",
      "    time = toq()\n",
      "    GFlops = LUGFlops(n,time)\n",
      "    println(\"Full algorithm: $time seconds, $GFlops GFlops\")\n",
      "\n",
      "    relResidErr = RelError(A,AFact,b,p,q)\n",
      "    println(\"|| b - A x ||_2 / || b ||_2 = $relResidErr\")\n",
      "end\n",
      "\n",
      "println(\"Starting fully-pivoted LU\")\n",
      "FullTest(ARand,b);"
     ],
     "language": "python",
     "metadata": {},
     "outputs": [
      {
       "output_type": "stream",
       "stream": "stdout",
       "text": [
        "Starting fully-pivoted LU\n",
        "Full algorithm: 3.331320942 seconds, 0.20012081641897433 GFlops"
       ]
      },
      {
       "output_type": "stream",
       "stream": "stdout",
       "text": [
        "\n",
        "|| b - A x ||_2 / || b ||_2 = 4.366530748948395e-12\n"
       ]
      }
     ],
     "prompt_number": 13
    }
   ],
   "metadata": {}
  }
 ]
}