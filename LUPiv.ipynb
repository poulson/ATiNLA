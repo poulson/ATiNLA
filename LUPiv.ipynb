{
 "metadata": {
  "kernelspec": {
   "codemirror_mode": "julia",
   "display_name": "Julia",
   "language": "julia",
   "name": "julia"
  },
  "language": "Julia",
  "name": "",
  "signature": "sha256:8c5af36eb46082256eede2abe6da376b91ae8821f42bc5a3c4335c4d20a0fcc5"
 },
 "nbformat": 3,
 "nbformat_minor": 0,
 "worksheets": [
  {
   "cells": [
    {
     "cell_type": "markdown",
     "metadata": {},
     "source": [
      "# Blocked and unblocked LU factorizations\n",
      "\n"
     ]
    },
    {
     "cell_type": "code",
     "collapsed": false,
     "input": [
      "n = 1000;\n",
      "useWilk = false;\n",
      "\n",
      "if useWilk\n",
      "    # Build Wilkinson's example (NOTE: the \"Wilkinson\" matrix is different)\n",
      "    AOrig = tril(-ones(n,n),-1) + Diagonal(ones(n));\n",
      "    AOrig[:,n] = -ones(n);\n",
      "else\n",
      "    AOrig = randn(n,n);\n",
      "end\n",
      "\n",
      "ANorm=norm(AOrig);\n",
      "println(\"|| A ||_2 = $ANorm\")\n",
      "\n",
      "# Build a random right-hand side\n",
      "b = randn(n);\n",
      "bNorm = norm(b);\n",
      "println(\"|| b ||_2 = $bNorm\")"
     ],
     "language": "python",
     "metadata": {},
     "outputs": [
      {
       "output_type": "stream",
       "stream": "stdout",
       "text": [
        "|| A ||_2 = 63.168194715499475\n",
        "|| b ||_2 = 32.31576642208384\n"
       ]
      }
     ],
     "prompt_number": 6
    },
    {
     "cell_type": "markdown",
     "metadata": {},
     "source": [
      "While it is not advisable to make use of unpivoted LU factorizations for the majority of nonsymmetric matrices, the algorithm can be quickly derived and implemented, and it is of interest to compare its accuracy to that of the pivoted schemes implemented later in this notebook.\n",
      "\n",
      "We begin by partitioning the expression $A = L U$ in a manner which exposes the top-left entry of each matrix, \n",
      "\n",
      "$$ \\begin{pmatrix} \\alpha_{1,1} & a_{1,2} \\\\ a_{2,1} & A_{2,2} \\end{pmatrix} = \\begin{pmatrix} 1 & 0 \\\\ l_{2,1} & L_{2,2} \\end{pmatrix} \\begin{pmatrix} \\upsilon_{1,1} & u_{1,2} \\\\ 0 & U_{2,2} \\end{pmatrix} = \\begin{pmatrix} \\upsilon_{1,1} & u_{1,2} \\\\ \\upsilon_{1,1} l_{2,1} & l_{2,1} u_{1,2} + L_{2,2} U_{2,2} \\end{pmatrix}. $$\n",
      "\n",
      "Using the standard LAPACK convention of overwriting the strictly lower triangle of $A$ with the strictly lower-triangle of the unit-diagonal lower-triangular matrix $L$, and the upper-triangle of $A$ with the upper-triangular matrix $U$, it is clear that no work need be performed to overwrite $\\alpha_{1,1}$ with $\\upsilon_{1,1}$ or $a_{1,2}$ with $u_{1,2}$. However, computing $l_{2,1}$ requires dividing $a_{2,1}$ by $\\upsilon_{1,1}$, and the *right-looking* algorithm involves manipulating the relation $A_{2,2} = l_{2,1} u_{1,2} + L_{2,2} U_{2,2}$ by ovewriting $A_{2,2}$ with the Schur complement $A_{2,2} - l_{2,1} u_{1,2} = L_{2,2} U_{2,2}$. At this point, the factorization can be completed by recursing on the updated contents of $A_{2,2}$, and, in practice, this is implemented via the following ``for`` loop rather than via recursion."
     ]
    },
    {
     "cell_type": "code",
     "collapsed": false,
     "input": [
      "function LUUnb(A)\n",
      "    m,n=size(A);\n",
      "    for k=1:min(m,n)\n",
      "        A[k+1:end,k] /= A[k,k];\n",
      "        A[k+1:end,k+1:end] -= A[k+1:end,k]*A[k,k+1:end];\n",
      "    end\n",
      "end"
     ],
     "language": "python",
     "metadata": {},
     "outputs": [
      {
       "metadata": {},
       "output_type": "pyout",
       "prompt_number": 7,
       "text": [
        "LUUnb (generic function with 1 method)"
       ]
      }
     ],
     "prompt_number": 7
    },
    {
     "cell_type": "code",
     "collapsed": false,
     "input": [
      "println(\"Starting unpivoted unblocked LU factorization\")\n",
      "A = copy(AOrig);\n",
      "tic();\n",
      "LUUnb(A);\n",
      "unbTime=toq();\n",
      "unbGFlops=(2.*n*n*n)/(3.*unbTime*1.e9);\n",
      "println(\"Unblocked algorithm: $unbTime seconds, $unbGFlops GFlops\")\n",
      "\n",
      "L = tril(A,-1) + eye(n,n);\n",
      "U = triu(A);\n",
      "decompError=norm(AOrig - L*U);\n",
      "relDecompError=decompError/ANorm;\n",
      "println(\"|| A - L U || / || A || = $relDecompError\")\n",
      "# A = L U implies inv(A) b = inv(L U) b = inv(U) inv(L) b\n",
      "x = U\\(L\\b);\n",
      "residError=norm(b-AOrig*x);\n",
      "relResidError=residError/bNorm;\n",
      "println(\"|| b - A x ||_2 / || b ||_2 = $relResidError\")"
     ],
     "language": "python",
     "metadata": {},
     "outputs": [
      {
       "output_type": "stream",
       "stream": "stdout",
       "text": [
        "Starting unpivoted unblocked LU factorization\n",
        "Unblocked algorithm: 5.332097958 seconds, 0.12502896081765247 GFlops\n",
        "|| A - L U || / || A || = 1.3466007226515142e-11\n",
        "|| b - A x ||_2 / || b ||_2 = 1.2666732558224194e-9\n"
       ]
      }
     ],
     "prompt_number": 8
    },
    {
     "cell_type": "markdown",
     "metadata": {},
     "source": [
      "$$ \\begin{pmatrix} A_{1,1} & A_{1,2} \\\\ A_{2,1} & A_{2,2} \\end{pmatrix} = \\begin{pmatrix} L_{1,1} & 0 \\\\ L_{2,1} & L_{2,2} \\end{pmatrix} \\begin{pmatrix} U_{1,1} & U_{1,2} \\\\ 0 & U_{2,2} \\end{pmatrix} = \\begin{pmatrix} L_{1,1} U_{1,1} & L_{1,1} U_{1,2} \\\\ L_{2,1} U_{1,1} & L_{2,1} U_{1,2} + L_{2,2} U_{2,2} \\end{pmatrix}. $$"
     ]
    },
    {
     "cell_type": "code",
     "collapsed": false,
     "input": [
      "function LU(A,bsize)\n",
      "    m, n = size(A);\n",
      "    for k=1:bsize:n,\n",
      "        nb=min(n-k+1,bsize);\n",
      "        ind1 = k:k+nb-1;\n",
      "        ind2 = k+nb:n;\n",
      "        A11 = sub(A,ind1,ind1);\n",
      "        A12 = sub(A,ind1,ind2);\n",
      "        A21 = sub(A,ind2,ind1);\n",
      "        A22 = sub(A,ind2,ind2);\n",
      "\n",
      "        LUUnb(A11)\n",
      "\n",
      "        # A21 := A21 inv(U11)\n",
      "        BLAS.trsm!('R','U','N','N',1.,A11,A21);\n",
      "\n",
      "        # A12 := inv(L11) A12\n",
      "        BLAS.trsm!('L','L','N','U',1.,A11,A12);\n",
      "\n",
      "        # A22 := A22 - A21*A12\n",
      "        BLAS.gemm!('N','N',-1.,A21,A12,1.,A22)\n",
      "    end\n",
      "end"
     ],
     "language": "python",
     "metadata": {},
     "outputs": [
      {
       "metadata": {},
       "output_type": "pyout",
       "prompt_number": 9,
       "text": [
        "LU (generic function with 1 method)"
       ]
      }
     ],
     "prompt_number": 9
    },
    {
     "cell_type": "code",
     "collapsed": false,
     "input": [
      "println(\"Starting unpivoted blocked LU factorization\")\n",
      "A = copy(AOrig);\n",
      "tic();\n",
      "LU(A,96);\n",
      "blockTime=toq();\n",
      "blockGFlops=(2.*n*n*n)/(3.*blockTime*1.e9);\n",
      "println(\"Blocked algorithm: $blockTime seconds, $blockGFlops GFlops\")\n",
      "L = tril(A,-1) + eye(n,n);\n",
      "U = triu(A);\n",
      "decompError=norm(AOrig - L*U);\n",
      "relDecompError=decompError/ANorm;\n",
      "println(\"|| A - L U || / || A || = $relDecompError\")\n",
      "\n",
      "# A = L U implies inv(A) b = inv(L U) b = inv(U) inv(L) b\n",
      "x = U\\(L\\b);\n",
      "residError=norm(b-AOrig*x);\n",
      "relResidError=residError/bNorm;\n",
      "println(\"|| b - A x ||_2 / || b ||_2 = $relResidError\")"
     ],
     "language": "python",
     "metadata": {},
     "outputs": [
      {
       "output_type": "stream",
       "stream": "stdout",
       "text": [
        "Starting unpivoted blocked LU factorization\n",
        "Blocked algorithm: 0.369466091 seconds, 1.8044055541396535 GFlops\n",
        "|| A - L U || / || A || = 1.267703298046171e-11\n",
        "|| b - A x ||_2 / || b ||_2 = 4.129204777581317e-9\n"
       ]
      }
     ],
     "prompt_number": 10
    },
    {
     "cell_type": "code",
     "collapsed": false,
     "input": [
      "function LUPartialUnb(A)\n",
      "    m,n=size(A);\n",
      "    p = [1:n];\n",
      "    for k=1:n\n",
      "        # Search for the maximum entry in A(k:end,k)\n",
      "        iPiv, pivVal = k, abs(A[k,k]);\n",
      "        for i=k:n\n",
      "            if abs(A[i,k]) > pivVal\n",
      "                iPiv, pivVal = i, abs(A[i,k]);\n",
      "            end\n",
      "        end\n",
      "\n",
      "        # Swap A[k,:] with A[iPiv,:] and accumulate the permutations in p\n",
      "        A[[k,iPiv],:] = A[[iPiv,k],:];\n",
      "        p[[k,iPiv]  ] = p[[iPiv,k]  ];\n",
      "\n",
      "        A[k+1:end,k] /= A[k,k];\n",
      "        A[k+1:end,k+1:end] -= A[k+1:end,k]*A[k,k+1:end];\n",
      "    end\n",
      "    return p\n",
      "end"
     ],
     "language": "python",
     "metadata": {},
     "outputs": [
      {
       "metadata": {},
       "output_type": "pyout",
       "prompt_number": 11,
       "text": [
        "LUPartialUnb (generic function with 1 method)"
       ]
      }
     ],
     "prompt_number": 11
    },
    {
     "cell_type": "code",
     "collapsed": false,
     "input": [
      "println(\"Starting unblocked partially-pivoted LU\")\n",
      "A = copy(AOrig);\n",
      "tic();\n",
      "p = LUPartialUnb(A);\n",
      "unbTime = toq();\n",
      "unbGFlops = (2.*n*n*n)/(3.*unbTime*1.e9);\n",
      "println(\"Unblocked algorithm: $unbTime seconds, $unbGFlops GFlops\")\n",
      "\n",
      "L = tril(A,-1) + eye(n,n);\n",
      "U = triu(A);\n",
      "decompError=norm(AOrig[p,:]-L*U);\n",
      "relDecompError=decompError/ANorm;\n",
      "println(\"|| P A - L U || / || A ||   = $relDecompError\")\n",
      "# P A = L U implies inv(A) b = inv(P' L U) b = inv(U) inv(L) P b\n",
      "x = U\\(L\\b[p]);\n",
      "residError=norm(b-AOrig*x);\n",
      "relResidError=residError/bNorm;\n",
      "println(\"|| b - A x ||_2 / || b ||_2 = $relResidError\")"
     ],
     "language": "python",
     "metadata": {},
     "outputs": [
      {
       "output_type": "stream",
       "stream": "stdout",
       "text": [
        "Starting unblocked partially-pivoted LU\n",
        "Unblocked algorithm: 5.438145675 seconds, 0.12259080696043816 GFlops\n",
        "|| P A - L U || / || A ||   = 5.044761564680341e-15\n",
        "|| b - A x ||_2 / || b ||_2 = 1.498230371330083e-12\n"
       ]
      }
     ],
     "prompt_number": 12
    },
    {
     "cell_type": "code",
     "collapsed": false,
     "input": [
      "function LUPartialPanel(A)\n",
      "    m,n=size(A);\n",
      "    p=[1:m];\n",
      "    for k=1:n\n",
      "        # Search for the maximum entry in A(k:end,k)\n",
      "        iPiv, pivVal = k, abs(A[k,k]);\n",
      "        for i=k:m\n",
      "            if abs(A[i,k]) > pivVal\n",
      "                iPiv, pivVal = i, abs(A[i,k]);\n",
      "            end\n",
      "        end\n",
      "\n",
      "        # Swap A[k,:] with A[iPiv,:] and accumulate the permutations in p\n",
      "        A[[k,iPiv],:] = A[[iPiv,k],:];\n",
      "        p[[k,iPiv]  ] = p[[iPiv,k]  ];\n",
      "\n",
      "        A[k+1:end,k] /= A[k,k];\n",
      "        A[k+1:end,k+1:end] -= A[k+1:end,k]*A[k,k+1:end];\n",
      "    end\n",
      "    return p;\n",
      "end\n",
      "\n",
      "function LUPartial(A,bsize)\n",
      "    m, n = size(A);\n",
      "    p = [1:n];\n",
      "    for k=1:bsize:n,\n",
      "        nb=min(n-k+1,bsize);\n",
      "        ind0 = 1:k-1;\n",
      "        ind1 = k:k+nb-1;\n",
      "        ind2 = k+nb:n;\n",
      "        indB = k:n;\n",
      "        A11 = sub(A,ind1,ind1);\n",
      "        A12 = sub(A,ind1,ind2);\n",
      "        A21 = sub(A,ind2,ind1);\n",
      "        A22 = sub(A,ind2,ind2);\n",
      "        AB0 = sub(A,indB,ind0);\n",
      "        AB1 = sub(A,indB,ind1);\n",
      "        AB2 = sub(A,indB,ind2);\n",
      "        pB = sub(p,indB);\n",
      "\n",
      "        # Perform the pivoted panel factorization of AB = [A11;A21]\n",
      "        pPan = LUPartialPanel(AB1);\n",
      "\n",
      "        # Apply the permutations used for factoring AB = [A11;A21]\n",
      "        AB0[:,:] = AB0[pPan,:];\n",
      "        AB2[:,:] = AB2[pPan,:];\n",
      "        pB[:] = pB[pPan];\n",
      "\n",
      "        # A12 := inv(L11) A12\n",
      "        BLAS.trsm!('L','L','N','U',1.,A11,A12);\n",
      "\n",
      "        # A22 := A22 - A21*A12\n",
      "        BLAS.gemm!('N','N',-1.,A21,A12,1.,A22)\n",
      "    end\n",
      "    return p\n",
      "end"
     ],
     "language": "python",
     "metadata": {},
     "outputs": [
      {
       "metadata": {},
       "output_type": "pyout",
       "prompt_number": 13,
       "text": [
        "LUPartial (generic function with 1 method)"
       ]
      }
     ],
     "prompt_number": 13
    },
    {
     "cell_type": "code",
     "collapsed": false,
     "input": [
      "# Run the blocked code\n",
      "println(\"Starting blocked partially-pivoted LU\")\n",
      "A = copy(AOrig);\n",
      "tic();\n",
      "p = LUPartial(A,96);\n",
      "blockTime = toq();\n",
      "blockGFlops = (2.*n*n*n)/(3.*blockTime*1.e9);\n",
      "println(\"Blocked algorithm: $blockTime seconds, $blockGFlops GFlops\")\n",
      "\n",
      "L = tril(A,-1) + eye(n,n);\n",
      "U = triu(A);\n",
      "decompError=norm(AOrig[p,:]-L*U);\n",
      "relDecompError=decompError/ANorm;\n",
      "println(\"|| P A - L U || / || A || = $relDecompError\")\n",
      "# P A = L U implies inv(A) b = inv(P' L U) b = inv(U) inv(L) P b\n",
      "x = U\\(L\\b[p]);\n",
      "residError=norm(b-AOrig*x);\n",
      "relResidError=residError/bNorm;\n",
      "println(\"|| b - A x ||_2 / || b ||_2 = $relResidError\")"
     ],
     "language": "python",
     "metadata": {},
     "outputs": [
      {
       "output_type": "stream",
       "stream": "stdout",
       "text": [
        "Starting blocked partially-pivoted LU\n",
        "Blocked algorithm: 0.869969908 seconds, 0.766310030423106 GFlops\n",
        "|| P A - L U || / || A || = 5.044761564680341e-15\n",
        "|| b - A x ||_2 / || b ||_2 = 1.498230371330083e-12\n"
       ]
      }
     ],
     "prompt_number": 14
    },
    {
     "cell_type": "code",
     "collapsed": false,
     "input": [
      "function LURook(A)\n",
      "    m,n=size(A);\n",
      "    p = [1:m];\n",
      "    q = [1:n];\n",
      "    totalPivCmps=0;\n",
      "    totalRookMoves=0;\n",
      "    for k=1:min(m,n)\n",
      "        # Search for an entry that is the maximum in its row and col\n",
      "        iPiv,jPiv,pivVal = k,k,abs(A[k,k]);\n",
      "        rookMove=0;\n",
      "        while true\n",
      "            rookMove += 1;\n",
      "            if rookMove % 2 == 1;\n",
      "                iOld=iPiv;\n",
      "                for i=k:m\n",
      "                    if abs(A[i,jPiv]) > pivVal\n",
      "                        iPiv,pivVal = i,abs(A[i,jPiv]);\n",
      "                    end\n",
      "                end\n",
      "                totalPivCmps += m-k+1;\n",
      "                iPiv==iOld && rookMove != 1 && break\n",
      "            else\n",
      "                jOld=jPiv;\n",
      "                for j=k:n\n",
      "                    if abs(A[iPiv,j]) > pivVal\n",
      "                        jPiv,pivVal = j,abs(A[iPiv,j]);\n",
      "                    end\n",
      "                end\n",
      "                totalPivCmps += n-k+1;\n",
      "                jPiv==jOld && break\n",
      "            end\n",
      "        end\n",
      "        totalRookMoves += rookMove;\n",
      "\n",
      "        # Pivot the previous pieces of L and update p\n",
      "        A[[k,iPiv],:] = A[[iPiv,k],:];\n",
      "        p[[k,iPiv]  ] = p[[iPiv,k]  ];\n",
      "\n",
      "        # Pivot U\n",
      "        A[:,[k,jPiv]] = A[:,[jPiv,k]];\n",
      "        q[  [k,jPiv]] = q[  [jPiv,k]];\n",
      "\n",
      "        A[k+1:end,k] /= A[k,k];\n",
      "        A[k+1:end,k+1:end] -= A[k+1:end,k]*A[k,k+1:end];\n",
      "    end\n",
      "    println(\"Total rook movements: $totalRookMoves\")\n",
      "    println(\"Total pivot comparisons: $totalPivCmps\")\n",
      "    return p, q\n",
      "end"
     ],
     "language": "python",
     "metadata": {},
     "outputs": [
      {
       "metadata": {},
       "output_type": "pyout",
       "prompt_number": 15,
       "text": [
        "LURook (generic function with 1 method)"
       ]
      }
     ],
     "prompt_number": 15
    },
    {
     "cell_type": "code",
     "collapsed": false,
     "input": [
      "println(\"Starting rook-pivoted LU\")\n",
      "A = copy(AOrig);\n",
      "tic();\n",
      "p, q = LURook(A);\n",
      "rookTime = toq();\n",
      "rookGFlops = (2.*n*n*n)/(3*rookTime*1.e9);\n",
      "println(\"Rook algorithm: $rookTime seconds, $rookGFlops GFlops\")\n",
      "\n",
      "# Expand A into L and U\n",
      "L = tril(A,-1) + eye(n,n);\n",
      "U = triu(A);\n",
      "\n",
      "# Compute residuals for the original factorization and a linear solve\n",
      "decompError=norm(AOrig[p,q] - L*U);\n",
      "relDecompError=decompError/ANorm;\n",
      "println(\"|| P A Q' - L U || / || A || = $relDecompError\")\n",
      "qInv=zeros(n);\n",
      "for j=1:n\n",
      "  qInv[q[j]] = j;\n",
      "end\n",
      "x = U\\(L\\b[p]);\n",
      "x[:] = x[qInv];\n",
      "residError=norm(b-AOrig*x);\n",
      "relResidError=residError/bNorm;\n",
      "println(\"|| b - A x ||_2 / || b ||_2 = $relResidError\")"
     ],
     "language": "python",
     "metadata": {},
     "outputs": [
      {
       "output_type": "stream",
       "stream": "stdout",
       "text": [
        "Starting rook-pivoted LU\n",
        "Total rook movements: 3349\n",
        "Total pivot comparisons: 1698361\n",
        "Rook algorithm: 5.410765947 seconds, 0.12321114481699216 GFlops\n",
        "|| P A Q' - L U || / || A || = 3.85594230777996e-15\n",
        "|| b - A x ||_2 / || b ||_2 = 8.387468739682727e-13\n"
       ]
      }
     ],
     "prompt_number": 16
    },
    {
     "cell_type": "code",
     "collapsed": false,
     "input": [
      "function LUFull(A)\n",
      "    m,n=size(A);\n",
      "    p = [1:m];\n",
      "    q = [1:n];\n",
      "    for k=1:min(m,n)\n",
      "        # Search for an entry that is the maximum in the remaining submatrix\n",
      "        iPiv,jPiv,pivVal = k,k,abs(A[k,k]);\n",
      "        for j=k:n\n",
      "            for i=k:m\n",
      "                if abs(A[i,j]) > pivVal\n",
      "                    iPiv,jPiv,pivVal = i,j,abs(A[i,j]);\n",
      "                end\n",
      "            end\n",
      "        end\n",
      "\n",
      "        # Pivot the previous pieces of L and update p\n",
      "        A[[k,iPiv],:] = A[[iPiv,k],:];\n",
      "        p[[k,iPiv]  ] = p[[iPiv,k]  ];\n",
      "\n",
      "        # Pivot U\n",
      "        A[:,[k,jPiv]] = A[:,[jPiv,k]];\n",
      "        q[  [k,jPiv]] = q[  [jPiv,k]];\n",
      "\n",
      "        A[k+1:end,k] /= A[k,k];\n",
      "        A[k+1:end,k+1:end] -= A[k+1:end,k]*A[k,k+1:end];\n",
      "    end\n",
      "    return p, q\n",
      "end"
     ],
     "language": "python",
     "metadata": {},
     "outputs": [
      {
       "metadata": {},
       "output_type": "pyout",
       "prompt_number": 17,
       "text": [
        "LUFull (generic function with 1 method)"
       ]
      }
     ],
     "prompt_number": 17
    },
    {
     "cell_type": "code",
     "collapsed": false,
     "input": [
      "println(\"Starting fully-pivoted LU\")\n",
      "A = copy(AOrig);\n",
      "tic();\n",
      "p, q = LUFull(A);\n",
      "fullTime = toq();\n",
      "fullGFlops = (2.*n*n*n)/(3*fullTime*1.e9);\n",
      "println(\"Full algorithm: $fullTime seconds, $fullGFlops GFlops\")\n",
      "L = tril(A,-1) + eye(n,n);\n",
      "U = triu(A);\n",
      "\n",
      "# Compute and print the error in the decomposition and A \\ b\n",
      "decompError=norm(AOrig[p,q] - L*U);\n",
      "relDecompError=decompError/ANorm;\n",
      "println(\"|| P A Q' - L U || / || A || = $relDecompError\")\n",
      "\n",
      "# P A Q' = L U implies inv(A) b = inv(P' L U Q) b = Q' inv(U) inv(L) P b\n",
      "qInv=zeros(n);\n",
      "for j=1:n\n",
      "  qInv[q[j]] = j;\n",
      "end\n",
      "x = U\\(L\\b[p]);\n",
      "x[:] = x[qInv];\n",
      "residError=norm(b-AOrig*x);\n",
      "relResidError=residError/bNorm;\n",
      "println(\"|| b - A x ||_2 / || b ||_2 = $relResidError\")"
     ],
     "language": "python",
     "metadata": {},
     "outputs": [
      {
       "output_type": "stream",
       "stream": "stdout",
       "text": [
        "Starting fully-pivoted LU\n",
        "Full algorithm: 6.091605811 seconds, 0.10944021779328272 GFlops\n",
        "|| P A Q' - L U || / || A || = 3.3274685451690074e-15\n",
        "|| b - A x ||_2 / || b ||_2 = 7.043918477701523e-13\n"
       ]
      }
     ],
     "prompt_number": 18
    }
   ],
   "metadata": {}
  }
 ]
}