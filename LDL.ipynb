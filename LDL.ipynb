{
 "metadata": {
  "kernelspec": {
   "codemirror_mode": "julia",
   "display_name": "Julia",
   "language": "julia",
   "name": "julia"
  },
  "language": "Julia",
  "name": "",
  "signature": "sha256:f9705d4a4ad93148ac5914c9fdd97169a2a2837fcfd2c122b75aecfa9c15dee4"
 },
 "nbformat": 3,
 "nbformat_minor": 0,
 "worksheets": [
  {
   "cells": [
    {
     "cell_type": "markdown",
     "metadata": {},
     "source": [
      "# Symmetric factorizations\n",
      "\n"
     ]
    },
    {
     "cell_type": "code",
     "collapsed": false,
     "input": [
      "n = 300;\n",
      "testDT = true;\n",
      "testRand = true;\n",
      "\n",
      "# Build an extended Druinsky-Toledo matrix\n",
      "# ========================================\n",
      "if n % 2 != 0\n",
      "    error(\"(Extended) Druinsky-Toledo has an even dimension\");\n",
      "end\n",
      "k = div(n,2);\n",
      "phi = 1. + 4*eps();\n",
      "alpha = (1.+sqrt(17.))/8.;\n",
      "alphaPhi = alpha*phi;\n",
      "sigma = 1.;\n",
      "d = zeros(k-2);\n",
      "for j=1:k-2\n",
      "    d[j] = -alphaPhi/sigma;\n",
      "    sigma -= 1/d[j];\n",
      "end\n",
      "    \n",
      "# Build the original Druinsky-Toledo matrix\n",
      "# -----------------------------------------\n",
      "G = [diagm(d) ones(Float64,k-2,2); ones(Float64,2,k)];\n",
      "    \n",
      "# Build the (well-conditioned) extended matrix\n",
      "# --------------------------------------------\n",
      "ADT = [G eye(k,k); eye(k,k) eye(k,k)];\n",
      "\n",
      "# Build a random symmetric matrix with zeros on the diagonal\n",
      "# ==========================================================\n",
      "ARand = rand(n,n);\n",
      "ARand = tril(ARand,-1) + tril(ARand,-1)';\n",
      "\n",
      "ADTNorm = norm(ADT);\n",
      "ADTCond = cond(ADT);\n",
      "ARandNorm = norm(ARand);\n",
      "ARandCond = cond(ARand);\n",
      "println(\"|| ADT   ||_2 = $ADTNorm\")\n",
      "println(\"|| ARand ||_2 = $ARandNorm\")\n",
      "println(\"cond(ADT)   = $ADTCond\")\n",
      "println(\"cond(ARand) = $ARandCond\")\n",
      "\n",
      "# Build a random right-hand sidel\n",
      "b = randn(n);\n",
      "bNorm = norm(b);\n",
      "println(\"|| b ||_2 = $bNorm\")\n",
      "\n",
      "function LDLGFlops(n,time)\n",
      "    return (1.*n*n*n)/(3.*time*1.e9);\n",
      "end\n",
      "\n",
      "function RelError(AOrig,ALDL,b,p)\n",
      "    m,n = size(AOrig);\n",
      "    \n",
      "    L = tril(ALDL,-1) + eye(n,n);\n",
      "    D = diagm(diag(ALDL));\n",
      "    relDecompErr = norm(AOrig[p,p] - L*D*L') / norm(AOrig);\n",
      "    \n",
      "    pInv = zeros(n,1);\n",
      "    for j=1:n\n",
      "        pInv[p[j]] = j;\n",
      "    end\n",
      "    \n",
      "    x = L'\\(D\\(L\\b[p]));\n",
      "    x = x[pInv];\n",
      "    relResidErr = norm(b-AOrig*x);\n",
      "    \n",
      "    return relDecompErr, relResidErr\n",
      "end"
     ],
     "language": "python",
     "metadata": {},
     "outputs": [
      {
       "output_type": "stream",
       "stream": "stdout",
       "text": [
        "|| ADT   ||_2 = 18.28826860609052\n",
        "|| ARand ||_2 = 149.39565806489884\n",
        "cond(ADT)   = 29.591040200042208\n",
        "cond(ARand) = 26114.648032872497\n",
        "|| b ||_2 = 17.629111181078063\n"
       ]
      },
      {
       "metadata": {},
       "output_type": "pyout",
       "prompt_number": 1,
       "text": [
        "RelError (generic function with 1 method)"
       ]
      }
     ],
     "prompt_number": 1
    },
    {
     "cell_type": "markdown",
     "metadata": {},
     "source": [
      "The first algorithm that we implement is an *unblocked* *right-looking* unpivoted $LDL^H$ factorization, which can quickly be derived from partitioning the expression $ A = L D L^H $ in a manner which exposes the top-left entry of $A$ and the unit-diagonal lower-triangular matrix $L$, say\n",
      "\n",
      "$$ \\begin{pmatrix} \\alpha_{1,1} & a_{2,1}^H \\\\ a_{2,1} & A_{2,2} \\end{pmatrix} = \\begin{pmatrix} 1 & 0 \\\\ l_{2,1} & L_{2,2} \\end{pmatrix} \\begin{pmatrix} \\delta_1 & 0 \\\\ 0 & D_2 \\end{pmatrix} \\begin{pmatrix} 1 & l_{2,1}^H \\\\ 0 & L_{2,2}^H \\end{pmatrix} = \\begin{pmatrix} \\delta_1 & \\delta_1 l_{2,1}^H \\\\ \\delta_1 l_{2,1} & l_{2,1} \\delta_1 l_{2,1}^H + L_{2,2} D_2 L_{2,2}^H \\end{pmatrix}. $$\n",
      "\n",
      "The unblocked right-looking algorithm for $LDL^H$ factorization can now be derived in a straight-forward manner by equating the exposed quadrants of $A$ with the corresponding quadrants of the product $L D L^H$. \n",
      "This algorithm is implemented in ``LDLUnb`` below, which returns $D$ in place of the unit-diagonal of $L$."
     ]
    },
    {
     "cell_type": "code",
     "collapsed": false,
     "input": [
      "function LDLUnb(A)\n",
      "    m,n = size(A);\n",
      "    for k=1:n\n",
      "        if abs(A[k,k]) < eps()\n",
      "            throw(DomainError())\n",
      "        end\n",
      "        A[k+1:end,k] /= A[k,k];\n",
      "        A[k+1:end,k+1:end] -= A[k+1:end,k]*A[k,k]*A[k+1:end,k]';\n",
      "    end\n",
      "end"
     ],
     "language": "python",
     "metadata": {},
     "outputs": [
      {
       "metadata": {},
       "output_type": "pyout",
       "prompt_number": 2,
       "text": [
        "LDLUnb (generic function with 1 method)"
       ]
      }
     ],
     "prompt_number": 2
    },
    {
     "cell_type": "markdown",
     "metadata": {},
     "source": [
      "We now test the performance and relative accuracy of the unblocked algorithm via a simple usage of Julia's ``tic``, ``toq``, and ``norm`` routines. We can easily convert the timing into a rough measurement of the number of floating-point computations performed per second by recognizing that  Cholesky factorization of a real $n \\times n$ matrix involves roughly $\\frac{1}{3} n^3$ floating-point operations."
     ]
    },
    {
     "cell_type": "code",
     "collapsed": false,
     "input": [
      "if testDT\n",
      "    println(\"Testing Druinsky-Toledo matrix...\")\n",
      "    A = copy(ADT);\n",
      "    tic();\n",
      "    try \n",
      "        LDLUnb(A);\n",
      "        unbTime=toq();\n",
      "        unbGFlops=LDLGFlops(n,unbTime);\n",
      "        println(\"unblocked algorithm: $unbTime seconds, $unbGFlops GFlops\")\n",
      "        relDecompErr, relResidErr = RelError(ADT,A,b,[1:n]);\n",
      "        println(\"|| A_{DT} - L L' || / || A || = $relDecompErr\")\n",
      "        println(\"|| b - A_{DT} x ||_2 / || b ||_2 = $relResidErr\")\n",
      "    catch except\n",
      "        if isa(except,DomainError)\n",
      "            println(\"Zero pivot encountered\"); \n",
      "        else\n",
      "            println(\"Unknown exception thrown\")\n",
      "        end\n",
      "    end\n",
      "end\n",
      "if testRand\n",
      "    println(\"Testing random matrix...\")\n",
      "    A = copy(ARand);\n",
      "    tic();\n",
      "    try\n",
      "        LDLUnb(A);\n",
      "        unbTime=toq();\n",
      "        unbGFlops=LDLGFlops(n,unbTime);\n",
      "        println(\"unblocked algorithm: $unbTime seconds, $unbGFlops GFlops\")\n",
      "        relDecompErr, relResidErr = RelError(ARand,A,b,[1:n]);\n",
      "        println(\"|| A_{rand} - L L' || / || A || = $relDecompErr\")\n",
      "        println(\"|| b - A_{rand} x ||_2 / || b ||_2 = $relResidErr\")\n",
      "    catch except\n",
      "        if isa(except,DomainError)\n",
      "            println(\"Zero pivot encountered\"); \n",
      "        else\n",
      "            println(\"Unknown exception thrown\")\n",
      "        end\n",
      "    end\n",
      "end"
     ],
     "language": "python",
     "metadata": {},
     "outputs": [
      {
       "output_type": "stream",
       "stream": "stdout",
       "text": [
        "Testing Druinsky-Toledo matrix...\n",
        "Zero pivot encountered\n",
        "Testing random matrix...\n",
        "Zero pivot encountered\n"
       ]
      }
     ],
     "prompt_number": 3
    },
    {
     "cell_type": "markdown",
     "metadata": {},
     "source": [
      "As of this writing, a typical core of a laptop can be expected to have a theoretical peak performance of roughly 10 billion floating-point operations per second (10 GFlops), and our timings reflect that this is nowhere near achieved by the unblocked algorithm. The inefficiency is easily explained by the fact that the symmetric rank-one update $A_{2,2} := A_{2,2} - l_{2,1} D_1 l_{2,1}^H$ asymptotically dominates the work in the algorithm but does not involve any significant data reuse. \n",
      "\n",
      "We can lift the previous algorithm into a *blocked* algorithm which spends the vast majority of its effort computing a related update of the form\n",
      "\n",
      "$$ A_{2,2} := A_{2,2} - L_{2,1} D_1 L_{2,1}^H, $$\n",
      "\n",
      "where $L_{2,1}$ is a tall and skinny matrix instead of a single column vector. Furthermore, the derivation of the algorithm directly mirrors that of the unblocked algorithm (indeed, it uses the unblocked algorithm as a component!) and begins by exposing a small, square $O(1) \\times O(1)$ submatrix in the top-left corners of $A$ and $L$ rather than a single entry:\n",
      "\n",
      "$$ \\begin{pmatrix} A_{1,1} & A_{2,1}^H \\\\ A_{2,1} & A_{2,2} \\end{pmatrix} = \\begin{pmatrix} L_{1,1} & 0 \\\\ L_{2,1} & L_{2,2} \\end{pmatrix} \\begin{pmatrix} D_1 & 0 \\\\ 0 & D_2 \\end{pmatrix} \\begin{pmatrix} L_{1,1}^H & L_{2,1}^H \\\\ 0 & L_{2,2}^H \\end{pmatrix} = \\begin{pmatrix} L_{1,1} D_1 L_{1,1}^H & L_{1,1} D_1 L_{2,1}^H \\\\ L_{2,1} D_1 L_{1,1}^H & L_{2,1} D_1 L_{2,1}^H + L_{2,2} D_2 L_{2,2}^H \\end{pmatrix}. $$\n",
      "\n",
      "The exact dimension of $A_{1,1}$ and $L_{1,1}$ should be chosen based upon architectural considerations, such as L1 and L2 cache sizes, but values near 100 are common when the dimension of $A$ is at least a few thousand.\n",
      "\n",
      "We can now derive a *blocked* right-looking $LDL^H$ factorization by again equating corresponding blocks of the partitioned matrices $A$ and $L L^H$, beginning with the relation $A_{1,1} = L_{1,1} L_{1,1}^H$, which can be solved for $L_{1,1}$ via our unblocked Cholesky factorization algorithm, ``CholUnb``. The equivalence $A_{2,1} = L_{2,1} L_{1,1}^H$ can be used to compute $L_{2,1}$ from $A_{2,1}$ and the newly-found $L_{1,1}$ via the BLAS routine [trsm](http://www.netlib.org/lapack/explore-html/de/da7/dtrsm_8f_source.html), which solves a *TR*iangular *S*ystem involving a *M*atrix. Once $L_{2,1}$ has been computed, its outer-product with itself can be subtracted from $A_{2,2}$ using an efficient kernel referred to as a *HE*rmitian *R*ank-*k* update ([herk](http://www.netlib.org/lapack/explore-html/d1/db1/zherk_8f_source.html)), which, for real matrices, is called a *SY*mmetric *R*ank-*k* update ([syrk](http://www.netlib.org/lapack/explore-html/dc/d05/dsyrk_8f_source.html)). Its efficiency is derived from the fact that $k$ multiplications and adds are performed for every entry of $A_{2,2}$ that is modified, which masks the fact that memory access speeds tend to be significantly slower than the theoretical peak floating-point performance."
     ]
    },
    {
     "cell_type": "code",
     "collapsed": false,
     "input": [
      "function LDL(A,bsize)\n",
      "    m,n = size(A);\n",
      "    for k=1:bsize:n\n",
      "        nb = min(n-k+1,bsize);\n",
      "        ind1 = k:k+nb-1;\n",
      "        ind2 = k+nb:n;\n",
      "        A11 = sub(A,ind1,ind1);\n",
      "        A21 = sub(A,ind2,ind1);\n",
      "        A22 = sub(A,ind2,ind2);\n",
      "        \n",
      "        # A11 := LDL(A11) = L11 and D1 compressed\n",
      "        LDLUnb(A11);\n",
      "        \n",
      "        # A21 := A21 inv(L11)^H\n",
      "        # NOTE: In the complex case, the third parameter should be 'C'\n",
      "        BLAS.trsm!('R','L','T','U',1.,A11,A21);\n",
      "        \n",
      "        # S21 := A21\n",
      "        S21 = copy(A21);\n",
      "        \n",
      "        # A21 := A21 / D1\n",
      "        # NOTE: 'diag' seems not to work on a 'SubArray'\n",
      "        for j=1:nb\n",
      "            A21[:,j] /= A11[j,j];\n",
      "        end\n",
      "        \n",
      "        # A22 := A22 - (L21 D1) L21^H\n",
      "        # NOTE: There is unfortunately no triangular rank-k update\n",
      "        # NOTE: For complex matrices, the 'T' should be 'C'\n",
      "        BLAS.gemm!('N','T',-1.,S21,A21,1.,A22);\n",
      "    end\n",
      "end"
     ],
     "language": "python",
     "metadata": {},
     "outputs": [
      {
       "metadata": {},
       "output_type": "pyout",
       "prompt_number": 4,
       "text": [
        "LDL (generic function with 1 method)"
       ]
      }
     ],
     "prompt_number": 4
    },
    {
     "cell_type": "markdown",
     "metadata": {},
     "source": []
    },
    {
     "cell_type": "code",
     "collapsed": false,
     "input": [
      "if testDT\n",
      "    println(\"Testing Druinsky-Toledo matrix...\")\n",
      "    A = copy(ADT);\n",
      "    tic();\n",
      "    try\n",
      "        LDL(A,96);\n",
      "        blockTime=toq();\n",
      "        blockGFlops=LDLGFlops(n,blockTime);\n",
      "        println(\"blocked algorithm: $blockTime seconds, $blockGFlops GFlops\")\n",
      "        relDecompErr, relResidErr = RelError(ADT,A,b,[1:n]);\n",
      "        println(\"|| A_{DT} - L D L' || / || A || = $relDecompErr\")\n",
      "        println(\"|| b - A_{DT} x ||_2 / || b ||_2 = $relResidErr\")\n",
      "    catch except\n",
      "        if isa(except,DomainError)\n",
      "            println(\"Zero pivot encountered\"); \n",
      "        else\n",
      "            println(\"Unknown exception thrown\")\n",
      "        end\n",
      "    end\n",
      "    \n",
      "    # Time and check the error from the built-in solve\n",
      "    tic();\n",
      "    x = ADT\\b;\n",
      "    builtinTime=toq();\n",
      "    builtinGFlops=LDLGFlops(n,builtinTime);\n",
      "    println(\"built-in solve: $builtinTime seconds, $builtinGFlops GFlops\")\n",
      "    relResidErr = norm(b-ADT*x) / norm(b);\n",
      "    println(\"|| b - A_{DT} x ||_2 / || b ||_2 = $relResidErr (backslash)\")\n",
      "end\n",
      "if testRand\n",
      "    println(\"Testing random matrix...\")\n",
      "    A = copy(ARand);\n",
      "    tic();\n",
      "    try\n",
      "        LDL(A,96);\n",
      "        blockTime=toq();\n",
      "        blockGFlops=LDLGFlops(n,blockTime);\n",
      "        println(\"blocked algorithm: $blockTime seconds, $blockGFlops GFlops\")\n",
      "        relDecompErr, relResidErr = RelError(ARand,A,b,[1:n]);\n",
      "        println(\"|| A_{rand} - L D L' || / || A || = $relDecompErr\")\n",
      "        println(\"|| b - A_{rand} x ||_2 / || b ||_2 = $relResidErr\")\n",
      "    catch except\n",
      "        if isa(except,DomainError)\n",
      "            println(\"Zero pivot encountered\"); \n",
      "        else\n",
      "            println(\"Unknown exception thrown\")\n",
      "        end\n",
      "    end\n",
      "    \n",
      "    # Time and check the error from the built-in solve\n",
      "    tic();\n",
      "    x = ARand\\b;\n",
      "    builtinTime=toq();\n",
      "    builtinGFlops=LDLGFlops(n,builtinTime);\n",
      "    println(\"built-in solve: $builtinTime seconds, $builtinGFlops GFlops\")\n",
      "    relResidErr = norm(b-ARand*x) / norm(b);\n",
      "    println(\"|| b - A_{rand} x ||_2 / || b ||_2 = $relResidErr (backslash)\")\n",
      "end"
     ],
     "language": "python",
     "metadata": {},
     "outputs": [
      {
       "output_type": "stream",
       "stream": "stdout",
       "text": [
        "Testing Druinsky-Toledo matrix...\n",
        "Zero pivot encountered\n",
        "built-in solve: 0.27218778 seconds, 0.03306540800619337 GFlops\n",
        "|| b - A_{DT} x ||_2 / || b ||_2 = 1.8551920301037953e-15 (backslash)\n",
        "Testing random matrix...\n",
        "Zero pivot encountered\n",
        "built-in solve: 0.010327012 seconds, 0.8715008755678797 GFlops\n",
        "|| b - A_{rand} x ||_2 / || b ||_2 = 1.387892335730237e-13 (backslash)\n"
       ]
      }
     ],
     "prompt_number": 5
    },
    {
     "cell_type": "markdown",
     "metadata": {},
     "source": [
      "As can be seen, without any tuning, our Julia implementation of a right-looking blocked Cholesky factorization, ``Chol``, is orders of magnitude faster than the unblocked algorithm and near the performance of the equivalent LAPACK implementation which drives the backslash operator."
     ]
    },
    {
     "cell_type": "code",
     "collapsed": false,
     "input": [
      "function LDLDiagPivUnb(A)\n",
      "    m,n = size(A);\n",
      "    p = [1:n];\n",
      "    for k=1:n\n",
      "        # Find the maximum absolute value on the diagonal\n",
      "        maxAbs = abs(A[k,k]); iPiv = k;\n",
      "        for j=k:n\n",
      "            if abs(A[j,j]) > maxAbs\n",
      "                maxAbs,iPiv = abs(A[j,j]), j;\n",
      "            end\n",
      "        end\n",
      "        \n",
      "        # Perform a symmetric swap (assuming an explicitly symmetric matrix)\n",
      "        A[[k,iPiv],:] = A[[iPiv,k],:];\n",
      "        A[:,[k,iPiv]] = A[:,[iPiv,k]];\n",
      "        p[[k,iPiv]] = p[[iPiv,k]];\n",
      "        \n",
      "        if abs(A[k,k]) < eps()\n",
      "            throw(DomainError())\n",
      "        end\n",
      "        A[k+1:end,k] /= A[k,k];\n",
      "        A[k+1:end,k+1:end] -= A[k+1:end,k]*A[k,k]*A[k+1:end,k]';\n",
      "    end\n",
      "    return p;\n",
      "end"
     ],
     "language": "python",
     "metadata": {},
     "outputs": [
      {
       "metadata": {},
       "output_type": "pyout",
       "prompt_number": 6,
       "text": [
        "LDLDiagPivUnb (generic function with 1 method)"
       ]
      }
     ],
     "prompt_number": 6
    },
    {
     "cell_type": "code",
     "collapsed": false,
     "input": [
      "if testDT\n",
      "    println(\"Testing Druinsky-Toledo matrix...\")\n",
      "    A = copy(ADT);\n",
      "    tic();\n",
      "    try\n",
      "        p=LDLDiagPivUnb(A);\n",
      "        blockTime=toq();\n",
      "        blockGFlops=LDLGFlops(n,blockTime);\n",
      "        println(\"blocked algorithm: $blockTime seconds, $blockGFlops GFlops\")\n",
      "        relDecompErr, relResidErr = RelError(ADT,A,b,p);\n",
      "        println(\"|| P A_{DT} P' - L D L' || / || A || = $relDecompErr\")\n",
      "        println(\"|| b - A_{DT} x ||_2 / || b ||_2 = $relResidErr\")\n",
      "    catch except\n",
      "        if isa(except,DomainError)\n",
      "            println(\"Zero pivot encountered\"); \n",
      "        else\n",
      "            println(\"Unknown exception thrown\")\n",
      "        end\n",
      "    end\n",
      "end\n",
      "if testRand\n",
      "    println(\"Testing random matrix...\")\n",
      "    A = copy(ARand);\n",
      "    tic();\n",
      "    try\n",
      "        p=LDLDiagPivUnb(A);\n",
      "        blockTime=toq();\n",
      "        blockGFlops=LDLGFlops(n,blockTime);\n",
      "        println(\"blocked algorithm: $blockTime seconds, $blockGFlops GFlops\")\n",
      "        relDecompErr, relResidErr = RelError(ARand,A,b,p);\n",
      "        println(\"|| P A_{rand} P' - L D L' || / || A || = $relDecompErr\")\n",
      "        println(\"|| b - A_{rand} x ||_2 / || b ||_2 = $relResidErr\")\n",
      "    catch except\n",
      "        if isa(except,DomainError)\n",
      "            println(\"Zero pivot encountered\"); \n",
      "        else\n",
      "            println(\"Unknown exception thrown\")\n",
      "        end\n",
      "    end\n",
      "end"
     ],
     "language": "python",
     "metadata": {},
     "outputs": [
      {
       "output_type": "stream",
       "stream": "stdout",
       "text": [
        "Testing Druinsky-Toledo matrix...\n",
        "blocked algorithm: 0.338473326 seconds, 0.026589983046404073 GFlops\n",
        "|| P A_{DT} P' - L D L' || / || A || = 4.6216522449020024e-17\n",
        "|| b - A_{DT} x ||_2 / || b ||_2 = 3.9111022938881785e-14\n",
        "Testing random matrix...\n",
        "Zero pivot encountered\n"
       ]
      }
     ],
     "prompt_number": 7
    },
    {
     "cell_type": "markdown",
     "metadata": {},
     "source": [
      "# TODO: Bunch-Kaufman and Bunch-Parlett"
     ]
    },
    {
     "cell_type": "code",
     "collapsed": false,
     "input": [],
     "language": "python",
     "metadata": {},
     "outputs": []
    }
   ],
   "metadata": {}
  }
 ]
}