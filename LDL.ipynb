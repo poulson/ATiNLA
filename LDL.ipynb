{
 "metadata": {
  "kernelspec": {
   "codemirror_mode": "julia",
   "display_name": "Julia",
   "language": "julia",
   "name": "julia"
  },
  "language": "Julia",
  "name": "",
  "signature": "sha256:c27734e18a9ee65c2d09f8d1b4f9118d5d33cff84d9b03d0985e4a5be55d4790"
 },
 "nbformat": 3,
 "nbformat_minor": 0,
 "worksheets": [
  {
   "cells": [
    {
     "cell_type": "markdown",
     "metadata": {},
     "source": [
      "# Symmetric factorizations\n",
      "This (very early draft) notebook implements and tests various symmetric factorizations on two problematic matrices: \n",
      "\n",
      "1. A (well-conditioned) matrix due to Druinsky and Toledo which exhibits worst-case element growth with Bunch-Kaufman (Algorithm A) factorizations in a similar manner to Wilkinson's famous example for LU with partial pivoting.\n",
      "\n",
      "2. A symmetric matrix with each entry in the strictly lower triangle independently drawn from a normal distribution, and with the diagonal set to zero.\n",
      "\n",
      "As will be seen, out of\n",
      "\n",
      "1. An unpivoted Cholesky-like $LDL^H$ factorization,\n",
      "2. A diagonally-pivoted $LDL^H$ factorization,\n",
      "3. Bunch-Parlett, and\n",
      "4. Bunch-Kaufman (Algorithm A),\n",
      "\n",
      "only Bunch-Parlett succeeds on both matrices. However, we note that LAPACK's standard symmetric factorization routines, e.g., ``dsytrf``, make use of a blocked variant of Bunch-Kaufman, for the same performance reasons that nonsymmetric factorizations use Gaussian Elimination with partial, rather than full, pivoting."
     ]
    },
    {
     "cell_type": "code",
     "collapsed": false,
     "input": [
      "function LDLGFlops(n,time)\n",
      "    (1.*n*n*n)/(3.*time*1.e9)\n",
      "end\n",
      "\n",
      "function RelError(A,LD,b,dSub,p)\n",
      "    m,n = size(A)\n",
      "    \n",
      "    D = diagm(diag(LD)) + diagm(dSub,-1) + diagm(conj(dSub),1)\n",
      "    L = tril(LD,-1) + eye(n,n)\n",
      "    E = A[p,p] - L*D*L'\n",
      "    relDecompErr = norm(A[p,p] - L*D*L') / norm(A)\n",
      "    \n",
      "    x = L'\\(D\\(L\\b[p]))\n",
      "    x = x[invperm(p)]\n",
      "    relResidErr = norm(b-A*x)\n",
      "    \n",
      "    relDecompErr, relResidErr\n",
      "end\n",
      "\n",
      "n = 500;\n",
      "testDT = true;\n",
      "testRand = true;\n",
      "\n",
      "# Build an extended Druinsky-Toledo matrix\n",
      "# ========================================\n",
      "if n % 2 != 0\n",
      "    error(\"(Extended) Druinsky-Toledo has an even dimension\");\n",
      "end\n",
      "k = div(n,2);\n",
      "phi = 1. + 4*eps();\n",
      "alpha = (1.+sqrt(17.))/8.;\n",
      "alphaPhi = alpha*phi;\n",
      "sigma = 1.;\n",
      "d = zeros(k-2);\n",
      "for j=1:k-2\n",
      "    d[j] = -alphaPhi/sigma;\n",
      "    sigma -= 1/d[j];\n",
      "end\n",
      "    \n",
      "# Build the original Druinsky-Toledo matrix\n",
      "# -----------------------------------------\n",
      "G = [diagm(d) ones(Float64,k-2,2); ones(Float64,2,k)];\n",
      "    \n",
      "# Build the (well-conditioned) extended matrix\n",
      "# --------------------------------------------\n",
      "ADT = [G eye(k,k); eye(k,k) eye(k,k)];\n",
      "\n",
      "# Build a random symmetric matrix with zeros on the diagonal\n",
      "# ==========================================================\n",
      "ARand = rand(n,n);\n",
      "ARand = tril(ARand,-1) + tril(ARand,-1)';\n",
      "\n",
      "ADTNorm = norm(ADT);\n",
      "ADTCond = cond(ADT);\n",
      "ARandNorm = norm(ARand);\n",
      "ARandCond = cond(ARand);\n",
      "println(\"|| ADT   ||_2 = $ADTNorm\")\n",
      "println(\"|| ARand ||_2 = $ARandNorm\")\n",
      "println(\"cond(ADT)   = $ADTCond\")\n",
      "println(\"cond(ARand) = $ARandCond\")\n",
      "\n",
      "# Build a random right-hand sidel\n",
      "b = randn(n);\n",
      "bNorm = norm(b);\n",
      "println(\"|| b ||_2 = $bNorm\")"
     ],
     "language": "python",
     "metadata": {},
     "outputs": [
      {
       "output_type": "stream",
       "stream": "stdout",
       "text": [
        "|| ADT   ||_2 = 23.33628288334377\n"
       ]
      },
      {
       "output_type": "stream",
       "stream": "stdout",
       "text": [
        "|| ARand ||_2 = 249.62292180290447\n",
        "cond(ADT)   = 37.75889887633269\n",
        "cond(ARand) = 4603.309123253933\n",
        "|| b ||_2 = 22.980458148646786\n"
       ]
      }
     ],
     "prompt_number": 1
    },
    {
     "cell_type": "markdown",
     "metadata": {},
     "source": [
      "The first algorithm that we implement is an *unblocked* *right-looking* unpivoted $LDL^H$ factorization, which can quickly be derived from partitioning the expression $ A = L D L^H $ in a manner which exposes the top-left entry of $A$ and the unit-diagonal lower-triangular matrix $L$, say\n",
      "\n",
      "$$ \\begin{pmatrix} \\alpha_{1,1} & a_{2,1}^H \\\\ a_{2,1} & A_{2,2} \\end{pmatrix} = \\begin{pmatrix} 1 & 0 \\\\ l_{2,1} & L_{2,2} \\end{pmatrix} \\begin{pmatrix} \\delta_1 & 0 \\\\ 0 & D_2 \\end{pmatrix} \\begin{pmatrix} 1 & l_{2,1}^H \\\\ 0 & L_{2,2}^H \\end{pmatrix} = \\begin{pmatrix} \\delta_1 & \\delta_1 l_{2,1}^H \\\\ \\delta_1 l_{2,1} & l_{2,1} \\delta_1 l_{2,1}^H + L_{2,2} D_2 L_{2,2}^H \\end{pmatrix}. $$\n",
      "\n",
      "The unblocked right-looking algorithm for $LDL^H$ factorization can now be derived in a straight-forward manner by equating the exposed quadrants of $A$ with the corresponding quadrants of the product $L D L^H$. \n",
      "This algorithm is implemented in ``LDLUnb`` below, which returns $D$ in place of the unit-diagonal of $L$."
     ]
    },
    {
     "cell_type": "code",
     "collapsed": false,
     "input": [
      "function LDLUnb!(A)\n",
      "    m,n = size(A)\n",
      "    for k=1:n\n",
      "        if abs(A[k,k]) < eps()\n",
      "            throw(DomainError())\n",
      "        end\n",
      "        A[k+1:end,k+1:end] -= (A[k+1:end,k]/A[k,k])*A[k+1:end,k]'\n",
      "        A[k+1:end,k] /= A[k,k]\n",
      "    end\n",
      "    tril!(A)\n",
      "end\n",
      "\n",
      "function LDLUnb(A)\n",
      "    ACopy = copy(A)\n",
      "    LDLUnb!(ACopy)\n",
      "    ACopy\n",
      "end"
     ],
     "language": "python",
     "metadata": {},
     "outputs": [
      {
       "metadata": {},
       "output_type": "pyout",
       "prompt_number": 2,
       "text": [
        "LDLUnb (generic function with 1 method)"
       ]
      }
     ],
     "prompt_number": 2
    },
    {
     "cell_type": "markdown",
     "metadata": {},
     "source": [
      "We now test the performance and relative accuracy of the unblocked algorithm via a simple usage of Julia's ``tic``, ``toq``, and ``norm`` routines. We can easily convert the timing into a rough measurement of the number of floating-point computations performed per second by recognizing that  Cholesky factorization of a real $n \\times n$ matrix involves roughly $\\frac{1}{3} n^3$ floating-point operations."
     ]
    },
    {
     "cell_type": "code",
     "collapsed": false,
     "input": [
      "function UnbTest(A,b)\n",
      "    # First ensure compilation by running a small problem\n",
      "    LDLUnb(eye(2,2))\n",
      "    \n",
      "    tic()\n",
      "    try \n",
      "        LD = LDLUnb(A)\n",
      "        time=toq()\n",
      "        GFlops=LDLGFlops(n,time)\n",
      "        println(\"unblocked algorithm: $time seconds, $GFlops GFlops\")\n",
      "        relDecompErr, relResidErr = RelError(A,LD,b,zeros(n-1),[1:n])\n",
      "        println(\"|| A - L L' || / || A || = $relDecompErr\")\n",
      "        println(\"|| b - A x ||_2 / || b ||_2 = $relResidErr\")\n",
      "    catch except\n",
      "        if isa(except,DomainError)\n",
      "            println(\"Zero pivot encountered\")\n",
      "        else\n",
      "            println(except)\n",
      "        end\n",
      "    end\n",
      "end\n",
      "\n",
      "if testDT\n",
      "    println(\"Testing Druinsky-Toledo matrix...\")\n",
      "    UnbTest(ADT,b);\n",
      "end\n",
      "if testRand\n",
      "    println(\"Testing random matrix...\")\n",
      "    UnbTest(ARand,b);\n",
      "end"
     ],
     "language": "python",
     "metadata": {},
     "outputs": [
      {
       "output_type": "stream",
       "stream": "stdout",
       "text": [
        "Testing Druinsky-Toledo matrix...\n"
       ]
      },
      {
       "output_type": "stream",
       "stream": "stdout",
       "text": [
        "Zero pivot encountered"
       ]
      },
      {
       "output_type": "stream",
       "stream": "stdout",
       "text": [
        "\n",
        "Testing random matrix...\n",
        "Zero pivot encountered\n"
       ]
      }
     ],
     "prompt_number": 3
    },
    {
     "cell_type": "markdown",
     "metadata": {},
     "source": [
      "As of this writing, a typical core of a laptop can be expected to have a theoretical peak performance of roughly 10 billion floating-point operations per second (10 GFlops), and our timings reflect that this is nowhere near achieved by the unblocked algorithm. The inefficiency is easily explained by the fact that the symmetric rank-one update $A_{2,2} := A_{2,2} - l_{2,1} D_1 l_{2,1}^H$ asymptotically dominates the work in the algorithm but does not involve any significant data reuse. \n",
      "\n",
      "We can lift the previous algorithm into a *blocked* algorithm which spends the vast majority of its effort computing a related update of the form\n",
      "\n",
      "$$ A_{2,2} := A_{2,2} - L_{2,1} D_1 L_{2,1}^H, $$\n",
      "\n",
      "where $L_{2,1}$ is a tall and skinny matrix instead of a single column vector. Furthermore, the derivation of the algorithm directly mirrors that of the unblocked algorithm (indeed, it uses the unblocked algorithm as a component!) and begins by exposing a small, square $O(1) \\times O(1)$ submatrix in the top-left corners of $A$ and $L$ rather than a single entry:\n",
      "\n",
      "$$ \\begin{pmatrix} A_{1,1} & A_{2,1}^H \\\\ A_{2,1} & A_{2,2} \\end{pmatrix} = \\begin{pmatrix} L_{1,1} & 0 \\\\ L_{2,1} & L_{2,2} \\end{pmatrix} \\begin{pmatrix} D_1 & 0 \\\\ 0 & D_2 \\end{pmatrix} \\begin{pmatrix} L_{1,1}^H & L_{2,1}^H \\\\ 0 & L_{2,2}^H \\end{pmatrix} = \\begin{pmatrix} L_{1,1} D_1 L_{1,1}^H & L_{1,1} D_1 L_{2,1}^H \\\\ L_{2,1} D_1 L_{1,1}^H & L_{2,1} D_1 L_{2,1}^H + L_{2,2} D_2 L_{2,2}^H \\end{pmatrix}. $$\n",
      "\n",
      "The exact dimension of $A_{1,1}$ and $L_{1,1}$ should be chosen based upon architectural considerations, such as L1 and L2 cache sizes, but values near 100 are common when the dimension of $A$ is at least a few thousand.\n",
      "\n",
      "We can now derive a *blocked* right-looking $LDL^H$ factorization by again equating corresponding blocks of the partitioned matrices $A$ and $L D L^H$."
     ]
    },
    {
     "cell_type": "code",
     "collapsed": false,
     "input": [
      "function LDL!(A,bsize=96)\n",
      "    m,n = size(A)\n",
      "    for k=1:bsize:n\n",
      "        nb = min(n-k+1,bsize)\n",
      "        ind1 = k:k+nb-1\n",
      "        ind2 = k+nb:n\n",
      "        A11 = sub(A,ind1,ind1)\n",
      "        A21 = sub(A,ind2,ind1)\n",
      "        A22 = sub(A,ind2,ind2)\n",
      "        \n",
      "        # A11 := LDL(A11) = L11 and D1 compressed\n",
      "        LDLUnb!(A11)\n",
      "        \n",
      "        # A21 := A21 inv(L11)^H\n",
      "        # NOTE: In the complex case, the third parameter should be 'C'\n",
      "        BLAS.trsm!('R','L','T','U',1.,A11,A21)\n",
      "        \n",
      "        # S21 := A21\n",
      "        S21 = copy(A21)\n",
      "        \n",
      "        # A21 := A21 / D1\n",
      "        A21[:,:] /= diag(A11);\n",
      "        \n",
      "        # A22 := A22 - (L21 D1) L21^H\n",
      "        # NOTE: There is unfortunately no triangular rank-k update\n",
      "        # NOTE: For complex matrices, the 'T' should be 'C'\n",
      "        BLAS.gemm!('N','T',-1.,S21,A21,1.,A22)\n",
      "    end\n",
      "    tril!(A)\n",
      "end\n",
      "\n",
      "function LDL(A,bsize=96)\n",
      "    ACopy = copy(A)\n",
      "    LDL!(ACopy,bsize)\n",
      "    ACopy\n",
      "end"
     ],
     "language": "python",
     "metadata": {},
     "outputs": [
      {
       "metadata": {},
       "output_type": "pyout",
       "prompt_number": 4,
       "text": [
        "LDL (generic function with 2 methods)"
       ]
      }
     ],
     "prompt_number": 4
    },
    {
     "cell_type": "code",
     "collapsed": false,
     "input": [
      "function BlockTest(A,b,bsize=96)\n",
      "    # Ensure that 'LDL' is compiled\n",
      "    LDL(eye(2,2),1)\n",
      "    \n",
      "    tic()\n",
      "    try\n",
      "        LD = LDL(A,bsize)\n",
      "        time=toq()\n",
      "        GFlops=LDLGFlops(n,time)\n",
      "        println(\"blocked algorithm: $time seconds, $GFlops GFlops\")\n",
      "        relDecompErr, relResidErr = RelError(A,LD,b,zeros(n-1),[1:n])\n",
      "        println(\"|| A - L D L' || / || A || = $relDecompErr\")\n",
      "        println(\"|| b - A x ||_2 / || b ||_2 = $relResidErr\")\n",
      "    catch except\n",
      "        if isa(except,DomainError)\n",
      "            println(\"Zero pivot encountered\")\n",
      "        else\n",
      "            println(except)\n",
      "        end\n",
      "    end\n",
      "    \n",
      "    # Time and check the error from the built-in solve\n",
      "    tic()\n",
      "    x = A\\b\n",
      "    time=toq()\n",
      "    GFlops=LDLGFlops(n,time)\n",
      "    println(\"built-in solve: $time seconds, $GFlops GFlops\")\n",
      "    relResidErr = norm(b-A*x) / norm(b)\n",
      "    println(\"|| b - A x ||_2 / || b ||_2 = $relResidErr (backslash)\")\n",
      "end\n",
      "\n",
      "if testDT\n",
      "    println(\"Testing Druinsky-Toledo matrix...\")\n",
      "    BlockTest(ADT,b,96);\n",
      "end\n",
      "if testRand\n",
      "    println(\"Testing random matrix...\")\n",
      "    BlockTest(ARand,b,96);\n",
      "end"
     ],
     "language": "python",
     "metadata": {},
     "outputs": [
      {
       "output_type": "stream",
       "stream": "stdout",
       "text": [
        "Testing Druinsky-Toledo matrix...\n"
       ]
      },
      {
       "output_type": "stream",
       "stream": "stdout",
       "text": [
        "Zero pivot encountered"
       ]
      },
      {
       "output_type": "stream",
       "stream": "stdout",
       "text": [
        "\n",
        "built-in solve: 0.009245744 seconds, 4.506578017590219 GFlops\n",
        "|| b - A x ||_2 / || b ||_2 = 1.6534568710472383e-15 (backslash)\n",
        "Testing random matrix...\n",
        "Zero pivot encountered\n",
        "built-in solve: 0.006921053 seconds, 6.020278513495947 GFlops\n",
        "|| b - A x ||_2 / || b ||_2 = 3.9663192719032375e-14 (backslash)\n"
       ]
      }
     ],
     "prompt_number": 5
    },
    {
     "cell_type": "markdown",
     "metadata": {},
     "source": [
      "As can be seen, without any tuning, our Julia implementation of a right-looking blocked Cholesky factorization, ``Chol``, is orders of magnitude faster than the unblocked algorithm and near the performance of the equivalent LAPACK implementation which drives the backslash operator."
     ]
    },
    {
     "cell_type": "code",
     "collapsed": false,
     "input": [
      "function LDLDiagPivUnb!(A)\n",
      "    m,n = size(A)\n",
      "    p = [1:n]\n",
      "    for k=1:n\n",
      "        # Find the maximum absolute value on the diagonal\n",
      "        maxAbs, iPiv = abs(A[k,k]), k\n",
      "        for j=k:n\n",
      "            if abs(A[j,j]) > maxAbs\n",
      "                maxAbs, iPiv = abs(A[j,j]), j\n",
      "            end\n",
      "        end\n",
      "        \n",
      "        # Perform a symmetric swap (assuming an explicitly symmetric matrix)\n",
      "        A[[k,iPiv],:] = A[[iPiv,k],:]\n",
      "        A[:,[k,iPiv]] = A[:,[iPiv,k]]\n",
      "        p[[k,iPiv]] = p[[iPiv,k]]\n",
      "        \n",
      "        if abs(A[k,k]) < eps()\n",
      "            throw(DomainError())\n",
      "        end\n",
      "        A[k+1:end,k+1:end] -= (A[k+1:end,k]/A[k,k])*A[k+1:end,k]'\n",
      "        A[k+1:end,k] /= A[k,k]\n",
      "    end\n",
      "    tril!(A)\n",
      "    p\n",
      "end\n",
      "\n",
      "function LDLDiagPivUnb(A)\n",
      "    ACopy = copy(A)\n",
      "    p = LDLDiagPivUnb!(ACopy)\n",
      "    ACopy, p\n",
      "end"
     ],
     "language": "python",
     "metadata": {},
     "outputs": [
      {
       "metadata": {},
       "output_type": "pyout",
       "prompt_number": 6,
       "text": [
        "LDLDiagPivUnb (generic function with 1 method)"
       ]
      }
     ],
     "prompt_number": 6
    },
    {
     "cell_type": "code",
     "collapsed": false,
     "input": [
      "function UnbDiagPivTest(A,b)\n",
      "    # Ensure that LDLDiagPivUnb is compiled\n",
      "    LDLDiagPivUnb(eye(2,2))\n",
      "    \n",
      "    tic()\n",
      "    try\n",
      "        LD,p = LDLDiagPivUnb(A)\n",
      "        time=toq()\n",
      "        GFlops=LDLGFlops(n,time)\n",
      "        println(\"unblocked diagonal-pivoted alg: $time seconds, $GFlops GFlops\")\n",
      "        relDecompErr, relResidErr = RelError(A,LD,b,zeros(n-1),p)\n",
      "        println(\"|| P A P' - L D L' || / || A || = $relDecompErr\")\n",
      "        println(\"|| b - A x ||_2 / || b ||_2 = $relResidErr\")\n",
      "    catch except\n",
      "        if isa(except,DomainError)\n",
      "            println(\"Zero pivot encountered\")\n",
      "        else\n",
      "            println(except)\n",
      "        end\n",
      "    end\n",
      "end\n",
      "\n",
      "if testDT\n",
      "    println(\"Testing Druinsky-Toledo matrix...\")\n",
      "    UnbDiagPivTest(ADT,b);\n",
      "end\n",
      "if testRand\n",
      "    println(\"Testing random matrix...\")\n",
      "    UnbDiagPivTest(ARand,b);\n",
      "end"
     ],
     "language": "python",
     "metadata": {},
     "outputs": [
      {
       "output_type": "stream",
       "stream": "stdout",
       "text": [
        "Testing Druinsky-Toledo matrix...\n"
       ]
      },
      {
       "output_type": "stream",
       "stream": "stdout",
       "text": [
        "unblocked diagonal-pivoted alg: 0.375673006 seconds, 0.11091205916101053 GFlops"
       ]
      },
      {
       "output_type": "stream",
       "stream": "stdout",
       "text": [
        "\n",
        "|| P A P' - L D L' || / || A || = 2.84187802333711e-16"
       ]
      },
      {
       "output_type": "stream",
       "stream": "stdout",
       "text": [
        "\n",
        "|| b - A x ||_2 / || b ||_2 = 7.049287396323897e-14\n",
        "Testing random matrix...\n",
        "Zero pivot encountered\n"
       ]
      }
     ],
     "prompt_number": 7
    },
    {
     "cell_type": "code",
     "collapsed": false,
     "input": [
      "function BunchParlett!(A,alpha=(1.+sqrt(17.))/8)\n",
      "    m,n = size(A)\n",
      "    p = [1:n]\n",
      "    dSub = zeros(n-1)\n",
      "    k=1\n",
      "    while k < n\n",
      "        # Find the largest entry in the remaining bottom-right corner\n",
      "        maxAbs, iPiv, jPiv = abs(A[k,k]), k, k\n",
      "        for j=k:n\n",
      "            for i=j:n\n",
      "                if abs(A[i,j]) > maxAbs\n",
      "                    maxAbs, iPiv, jPiv = abs(A[i,j]), i, j\n",
      "                end\n",
      "            end\n",
      "        end\n",
      "        \n",
      "        # Find the largest entry in the diagonal of the bottom-right corner\n",
      "        maxDiagAbs, diagPiv = abs(A[k,k]), k\n",
      "        for i=k:n\n",
      "            if abs(A[i,i]) > maxDiagAbs\n",
      "                maxDiagAbs, diagPiv = abs(A[i,i]), i\n",
      "            end\n",
      "        end\n",
      "        \n",
      "        if maxDiagAbs >= alpha*maxAbs\n",
      "            nb = 1\n",
      "            # Pivot indices k and diagPiv\n",
      "            A[[k,diagPiv],:] = A[[diagPiv,k],:]\n",
      "            A[:,[k,diagPiv]] = A[:,[diagPiv,k]]\n",
      "            p[[k,diagPiv]] = p[[diagPiv,k]]\n",
      "        else\n",
      "            nb = 2;\n",
      "            # Pivot indices k and jPiv\n",
      "            A[[k,jPiv],:] = A[[jPiv,k],:]\n",
      "            A[:,[k,jPiv]] = A[:,[jPiv,k]]\n",
      "            p[[k,jPiv]] = p[[jPiv,k]]\n",
      "            # Pivot indices k+1 and iPiv\n",
      "            A[[k+1,iPiv],:] = A[[iPiv,k+1],:]\n",
      "            A[:,[k+1,iPiv]] = A[:,[iPiv,k+1]]\n",
      "            p[[k+1,iPiv]] = p[[iPiv,k+1]]\n",
      "        end\n",
      "               \n",
      "        if nb == 1\n",
      "            if abs(A[k,k]) < eps()\n",
      "                throw(DomainError())\n",
      "            end\n",
      "            ind2 = k+1:n\n",
      "\n",
      "            A[ind2,ind2] -= (A[ind2,k]/A[k,k])*A[ind2,k]'\n",
      "            A[ind2,k] /= A[k,k]\n",
      "        else\n",
      "            ind1 = k:k+1\n",
      "            ind2 = k+2:n\n",
      "            \n",
      "            Y21 = copy(A[ind2,ind1])\n",
      "            A[ind2,ind1] /= (A[ind1,ind1]+A[ind1,ind1]')/2\n",
      "            A[ind2,ind2] -= A[ind2,ind1]*Y21'\n",
      "            \n",
      "            # Only leave the main diagonal of D in-place so that routines like Trsm can\n",
      "            # still be used\n",
      "            dSub[k] = A[k+1,k]\n",
      "            A[k+1,k] = 0\n",
      "            A[k,k+1] = 0\n",
      "        end\n",
      "        \n",
      "        k += nb\n",
      "    end\n",
      "    tril!(A)\n",
      "    dSub, p\n",
      "end\n",
      "\n",
      "function BunchParlett(A,alpha=(1.+sqrt(17.))/8)\n",
      "    ACopy = copy(A)\n",
      "    dSub, p = BunchParlett!(ACopy,alpha)\n",
      "    ACopy, dSub, p\n",
      "end"
     ],
     "language": "python",
     "metadata": {},
     "outputs": [
      {
       "metadata": {},
       "output_type": "pyout",
       "prompt_number": 8,
       "text": [
        "BunchParlett (generic function with 2 methods)"
       ]
      }
     ],
     "prompt_number": 8
    },
    {
     "cell_type": "code",
     "collapsed": false,
     "input": [
      "function BunchParlettTest(A,b)\n",
      "    # Ensure that BunchParlett is compiled\n",
      "    BunchParlett(eye(2,2))\n",
      "    \n",
      "    tic()\n",
      "    try\n",
      "        LD,dSub,p = BunchParlett(A)\n",
      "        time=toq()\n",
      "        GFlops=LDLGFlops(n,time)\n",
      "        println(\"Bunch-Parlett: $time seconds, $GFlops GFlops\")\n",
      "        relDecompErr, relResidErr = RelError(A,LD,b,dSub,p)\n",
      "        println(\"|| P A P' - L D L' || / || A || = $relDecompErr\")\n",
      "        println(\"|| b - A x ||_2 / || b ||_2 = $relResidErr\")\n",
      "    catch except\n",
      "        if isa(except,DomainError)\n",
      "            println(\"Zero pivot encountered\")\n",
      "        else\n",
      "            println(except)\n",
      "        end\n",
      "    end\n",
      "end\n",
      "\n",
      "if testDT\n",
      "    println(\"Testing Druinsky-Toledo matrix...\")\n",
      "    BunchParlettTest(ADT,b);\n",
      "end\n",
      "if testRand\n",
      "    println(\"Testing random matrix...\")\n",
      "    BunchParlettTest(ARand,b);\n",
      "end"
     ],
     "language": "python",
     "metadata": {},
     "outputs": [
      {
       "output_type": "stream",
       "stream": "stdout",
       "text": [
        "Testing Druinsky-Toledo matrix...\n"
       ]
      },
      {
       "output_type": "stream",
       "stream": "stdout",
       "text": [
        "Bunch-Parlett: 0.392035566 seconds, 0.10628287400502501 GFlops"
       ]
      },
      {
       "output_type": "stream",
       "stream": "stdout",
       "text": [
        "\n",
        "|| P A P' - L D L' || / || A || = 2.84187802333711e-16"
       ]
      },
      {
       "output_type": "stream",
       "stream": "stdout",
       "text": [
        "\n",
        "|| b - A x ||_2 / || b ||_2 = 7.049287396323897e-14\n",
        "Testing random matrix...\n",
        "Bunch-Parlett: 0.343437411 seconds, 0.1213224457561109 GFlops"
       ]
      },
      {
       "output_type": "stream",
       "stream": "stdout",
       "text": [
        "\n",
        "|| P A P' - L D L' || / || A || = 1.9408555873153252e-16"
       ]
      },
      {
       "output_type": "stream",
       "stream": "stdout",
       "text": [
        "\n",
        "|| b - A x ||_2 / || b ||_2 = 1.2634553004476362e-12\n"
       ]
      }
     ],
     "prompt_number": 9
    },
    {
     "cell_type": "code",
     "collapsed": false,
     "input": [
      "function BunchKaufmanUnb!(A,alpha=(1.+sqrt(17.))/8)\n",
      "    m,n = size(A)\n",
      "    p = [1:n]\n",
      "    dSub = zeros(n-1)\n",
      "    k=1\n",
      "    while k < n\n",
      "        # Find the largest entry below the current pivot candidate\n",
      "        iMaxAbs, iMaxLoc = abs(A[k+1,k]), k+1\n",
      "        for i=k+2:n\n",
      "            if abs(A[i,k]) > iMaxAbs\n",
      "                iMaxAbs, iMaxLoc = abs(A[i,k]), i\n",
      "            end\n",
      "        end\n",
      "        \n",
      "        # Use the current pivot candidate if it is sufficiently large\n",
      "        # relative to its column\n",
      "        if abs(A[k,k]) >= alpha*iMaxAbs\n",
      "            pivs = [k]\n",
      "        else\n",
      "            # Find the largest off-diagonal entry in row iMaxLoc\n",
      "            jMaxAbs, jMaxLoc = iMaxAbs, k\n",
      "            for j=k+1:n\n",
      "                if j != iMaxLoc && abs(A[iMaxLoc,j]) > jMaxAbs\n",
      "                    jMaxAbs, jMaxLoc = abs(A[iMaxLoc,j]), j\n",
      "                end\n",
      "            end\n",
      "            \n",
      "            if abs(A[k,k])*jMaxAbs >= alpha*iMaxAbs^2\n",
      "                pivs = [k]\n",
      "            elseif abs(A[iMaxLoc,iMaxLoc]) >= alpha*jMaxAbs\n",
      "                pivs = [iMaxLoc]\n",
      "                A[[k,iMaxLoc],:] = A[[iMaxLoc,k],:]\n",
      "                A[:,[k,iMaxLoc]] = A[:,[iMaxLoc,k]]\n",
      "                p[[k,iMaxLoc]] = p[[iMaxLoc,k]]\n",
      "            else\n",
      "                pivs = [k,iMaxLoc]\n",
      "                A[[k+1,iMaxLoc],:] = A[[iMaxLoc,k+1],:]\n",
      "                A[:,[k+1,iMaxLoc]] = A[:,[iMaxLoc,k+1]]\n",
      "                p[[k+1,iMaxLoc]] = p[[iMaxLoc,k+1]]\n",
      "            end\n",
      "        end\n",
      "        \n",
      "        nb = length(pivs)\n",
      "        if nb == 1\n",
      "            if abs(A[k,k]) < eps()\n",
      "                throw(DomainError())\n",
      "            end\n",
      "            ind2 = k+1:n\n",
      "\n",
      "            A[ind2,ind2] -= (A[ind2,k]/A[k,k])*A[ind2,k]'\n",
      "            A[ind2,k] /= A[k,k]\n",
      "        else\n",
      "            ind1 = k:k+1\n",
      "            ind2 = k+2:n\n",
      "            \n",
      "            Y21 = copy(A[ind2,ind1])\n",
      "            A[ind2,ind1] /= (A[ind1,ind1]+A[ind1,ind1]')/2\n",
      "            A[ind2,ind2] -= A[ind2,ind1]*Y21'\n",
      "            \n",
      "            # Only leave the main diagonal of D in-place so that routines like Trsm can\n",
      "            # still be used\n",
      "            dSub[k] = A[k+1,k]\n",
      "            A[k+1,k] = 0\n",
      "            A[k,k+1] = 0\n",
      "        end\n",
      "        \n",
      "        k += nb\n",
      "    end\n",
      "    tril!(A)\n",
      "    dSub, p\n",
      "end\n",
      "\n",
      "function BunchKaufmanUnb(A,alpha=(1.+sqrt(17.))/8)\n",
      "    ACopy = copy(A)\n",
      "    dSub, p = BunchKaufmanUnb!(ACopy,alpha)\n",
      "    ACopy, dSub, p\n",
      "end"
     ],
     "language": "python",
     "metadata": {},
     "outputs": [
      {
       "metadata": {},
       "output_type": "pyout",
       "prompt_number": 10,
       "text": [
        "BunchKaufmanUnb (generic function with 2 methods)"
       ]
      }
     ],
     "prompt_number": 10
    },
    {
     "cell_type": "code",
     "collapsed": false,
     "input": [
      "function BunchKaufmanUnbTest(A,b)\n",
      "    # Ensure that BunchKaufmanUnb is compiled\n",
      "    BunchKaufmanUnb(eye(2,2))\n",
      "    \n",
      "    tic()\n",
      "    try\n",
      "        LD,dSub,p = BunchKaufmanUnb(A)\n",
      "        time=toq()\n",
      "        GFlops=LDLGFlops(n,time)\n",
      "        println(\"Unblocked Bunch-Kaufman: $time seconds, $GFlops GFlops\")\n",
      "        relDecompErr, relResidErr = RelError(A,LD,b,dSub,p)\n",
      "        println(\"|| P A P' - L D L' || / || A || = $relDecompErr\")\n",
      "        println(\"|| b - A x ||_2 / || b ||_2 = $relResidErr\")\n",
      "    catch except\n",
      "        if isa(except,DomainError)\n",
      "            println(\"Zero pivot encountered\")\n",
      "        else\n",
      "            println(except)\n",
      "        end\n",
      "    end\n",
      "end\n",
      "\n",
      "if testDT\n",
      "    println(\"Testing Druinsky-Toledo matrix...\")\n",
      "    BunchKaufmanUnbTest(ADT,b);\n",
      "end\n",
      "if testRand\n",
      "    println(\"Testing random matrix...\")\n",
      "    BunchKaufmanUnbTest(ARand,b);\n",
      "end"
     ],
     "language": "python",
     "metadata": {},
     "outputs": [
      {
       "output_type": "stream",
       "stream": "stdout",
       "text": [
        "Testing Druinsky-Toledo matrix...\n"
       ]
      },
      {
       "output_type": "stream",
       "stream": "stdout",
       "text": [
        "Zero pivot encountered"
       ]
      },
      {
       "output_type": "stream",
       "stream": "stdout",
       "text": [
        "\n",
        "Testing random matrix...\n",
        "Unblocked Bunch-Kaufman: 0.216498282 seconds, 0.19245726239373423 GFlops"
       ]
      },
      {
       "output_type": "stream",
       "stream": "stdout",
       "text": [
        "\n",
        "|| P A P' - L D L' || / || A || = 1.0857326110811768e-15"
       ]
      },
      {
       "output_type": "stream",
       "stream": "stdout",
       "text": [
        "\n",
        "|| b - A x ||_2 / || b ||_2 = 2.249431224437858e-12\n"
       ]
      }
     ],
     "prompt_number": 11
    }
   ],
   "metadata": {}
  }
 ]
}