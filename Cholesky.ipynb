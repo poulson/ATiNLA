{
 "metadata": {
  "kernelspec": {
   "codemirror_mode": "julia",
   "display_name": "Julia",
   "language": "julia",
   "name": "julia"
  },
  "language": "Julia",
  "name": "",
  "signature": "sha256:f8bcde1cefc8bf33da0174d12418e78d580b02ea2000cc5d9ba645fdf9fdb58c"
 },
 "nbformat": 3,
 "nbformat_minor": 0,
 "worksheets": [
  {
   "cells": [
    {
     "cell_type": "markdown",
     "metadata": {},
     "source": [
      "This notebook implements and tests the performance of unblocked and blocked algorithms for *Cholesky factorization*,\n",
      "\n",
      "$$ A = L L^H, $$\n",
      "\n",
      "where $A$ is Hermitian positive-definite and $L$ is lower-triangular with a positive diagonal (however, please note that the concept generalizes to positive semidefinite matrices). The simplest means of generating a Hermitian positive-definite matrix is to form $A = B B^H$, where $B$ is any non-singular square matrix. We instead form $A = B B^H + I$, with $B$ set to a normally-distributed matrix via the command ``randn(n,n)``. \n",
      "\n",
      "In order to test the accuracy of our factorizations of $A$, we will solve the linear system\n",
      "\n",
      "$$ A x = b $$\n",
      "\n",
      "and test the *relative residual*, \n",
      "\n",
      "$$ \\| b - A x \\|_2 / \\| b \\|_2 $$,\n",
      "\n",
      "as well as check the relative error in the factorization itself,\n",
      "\n",
      "$$ \\| A - L L^H \\|_2 / \\| A \\|_2. $$\n",
      "\n",
      "For this reason, we will save $ \\| A \\|_2 $ and $ \\| b \\|_2 $ for future use."
     ]
    },
    {
     "cell_type": "code",
     "collapsed": false,
     "input": [
      "n = 1000;\n",
      "\n",
      "# Build a random SPD matrix\n",
      "B = randn(n,n);\n",
      "AOrig = B*B' + eye(n,n);\n",
      "ANorm = norm(AOrig);\n",
      "println(\"|| A ||_2 = $ANorm\")\n",
      "\n",
      "# Build a random right-hand sidel\n",
      "b = randn(n);\n",
      "bNorm = norm(b);\n",
      "println(\"|| b ||_2 = $bNorm\")"
     ],
     "language": "python",
     "metadata": {},
     "outputs": [
      {
       "output_type": "stream",
       "stream": "stdout",
       "text": [
        "|| A ||_2 = 4008.613535000883\n",
        "|| b ||_2 = 31.506582883514458\n"
       ]
      }
     ],
     "prompt_number": 1
    },
    {
     "cell_type": "markdown",
     "metadata": {},
     "source": [
      "The first algorithm that we implement is an *unblocked* *right-looking* Cholesky factorization, which can quickly be derived from partitioning the expression $ A = L L^H $ in a manner which exposes the top-left entry of $A$ and the lower-triangular matrix $L$, say\n",
      "\n",
      "$$ \\begin{pmatrix} \\alpha_{1,1} & a_{2,1}^H \\\\ a_{2,1} & A_{2,2} \\end{pmatrix} = \\begin{pmatrix} \\lambda_{1,1} & 0 \\\\ l_{2,1} & L_{2,2} \\end{pmatrix} \\begin{pmatrix} \\lambda_{1,1} & l_{2,1}^H \\\\ 0 & L_{2,2}^H \\end{pmatrix} = \\begin{pmatrix} \\lambda_{1,1}^2 & \\lambda_{1,1} l_{2,1}^H \\\\ \\lambda_{1,1} l_{2,1} & l_{2,1} l_{2,1}^H + L_{2,2} L_{2,2}^H \\end{pmatrix}, $$\n",
      "\n",
      "where we have made use of the fact that $L$ is required to have a positive diagonal (and therefore $\\lambda_{1,1}$ equals its conjugate).\n",
      "\n",
      "The unblocked right-looking algorithm for Cholesky factorization can now be derived in a straight-forward manner by equating the exposed quadrants of $A$ with the corresponding quadrants of the product $L L^H$. In particular, the common convention, such as in LAPACK's [zpotf2](http://www.netlib.org/lapack/explore-3.1.1-html/zpotf2.f.html), is to overwrite the lower triangle of $A$ with the Cholesky factor $L$ (leaving the upper-triangle of $A$ unaccessed and unchanged).\n",
      "\n",
      "It should then be clear from $\\alpha_{1,1} = \\lambda_{1,1}^2$ that the first step of the unblocked algorithm should be to overwrite $\\alpha_{1,1} := \\sqrt{\\alpha_{1,1}} = \\lambda_{1,1}$, and that the relation $a_{2,1} = \\lambda_{1,1} l_{2,1}$ then implies that $a_{2,1}$ can be overwritten with $l_{2,1}$ via the operation $a_{2,1} := a_{2,1} / \\lambda_{1,1}$. The original problem can then be reduced to an equivalent subproblem via overwriting $A_{2,2}$ with the Schur complement\n",
      "\n",
      "$$ A_{2,2} := A_{2,2} - l_{2,1} l_{2,1}^H = L_{2,2} L_{2,2}^H. $$\n",
      "\n",
      "This algorithm is implemented in ``CholUnb`` below."
     ]
    },
    {
     "cell_type": "code",
     "collapsed": false,
     "input": [
      "function CholUnb(A)\n",
      "    m,n = size(A);\n",
      "    for k=1:n\n",
      "        A[k,k] = sqrt(A[k,k]);\n",
      "        A[k+1:end,k] /= A[k,k];\n",
      "        A[k+1:end,k+1:end] -= A[k+1:end,k]*A[k+1:end,k]';\n",
      "    end\n",
      "end"
     ],
     "language": "python",
     "metadata": {},
     "outputs": [
      {
       "metadata": {},
       "output_type": "pyout",
       "prompt_number": 2,
       "text": [
        "CholUnb (generic function with 1 method)"
       ]
      }
     ],
     "prompt_number": 2
    },
    {
     "cell_type": "markdown",
     "metadata": {},
     "source": [
      "We now test the performance and relative accuracy of the unblocked algorithm via a simple usage of Julia's ``tic``, ``toq``, and ``norm`` routines. We can easily convert the timing into a rough measurement of the number of floating-point computations performed per second by recognizing that  Cholesky factorization of a real $n \\times n$ matrix involves roughly $\\frac{1}{3} n^3$ floating-point operations."
     ]
    },
    {
     "cell_type": "code",
     "collapsed": false,
     "input": [
      "# Time the unblocked algorithm\n",
      "A = copy(AOrig);\n",
      "tic();\n",
      "CholUnb(A);\n",
      "unbTime=toq();\n",
      "GFlops=(1.*n*n*n)/(3.*unbTime*1.e9);\n",
      "println(\"unblocked time: $unbTime seconds\")\n",
      "println(\"unblocked GFlops: $GFlops\")\n",
      "\n",
      "# Check the error of the blocked algorithm\n",
      "L = tril(A);\n",
      "decompError=norm(AOrig - L*L');\n",
      "relDecompError=decompError/ANorm;\n",
      "println(\"|| A - L L' ||             = $decompError\")\n",
      "println(\"|| A - L L' || / || A ||   = $relDecompError\")\n",
      "\n",
      "# A = L L' implies inv(A) b = inv(L L') b = inv(L') inv(L) b\n",
      "x = L'\\(L\\b);\n",
      "residError=norm(b-AOrig*x);\n",
      "relResidError=residError/bNorm;\n",
      "println(\"|| b - A x ||_2             = $residError\")\n",
      "println(\"|| b - A x ||_2 / || b ||_2 = $relResidError\")"
     ],
     "language": "python",
     "metadata": {},
     "outputs": [
      {
       "output_type": "stream",
       "stream": "stdout",
       "text": [
        "unblocked time: 5.655188571 seconds\n",
        "unblocked GFlops: 0.05894292102701545\n",
        "|| A - L L' ||             = 3.984683177125967e-12\n",
        "|| A - L L' || / || A ||   = 9.940302656601914e-16\n",
        "|| b - A x ||_2             = 6.516412719395838e-12\n",
        "|| b - A x ||_2 / || b ||_2 = 2.0682702226033827e-13\n"
       ]
      }
     ],
     "prompt_number": 3
    },
    {
     "cell_type": "markdown",
     "metadata": {},
     "source": [
      "As of this writing, a typical core of a laptop can be expected to have a theoretical peak performance of roughly 10 billion floating-point operations per second (10 GFlops), and our timings reflect that this is nowhere near achieved by the unblocked algorithm. The inefficiency is easily explained by the fact that the symmetric rank-one update $A_{2,2} := A_{2,2} - l_{2,1} l_{2,1}^H$ asymptotically dominates the work in the algorithm but does not involve any significant data reuse. \n",
      "\n",
      "We can lift the previous algorithm into a *blocked* algorithm which spends the vast majority of its effort computing a related update of the form\n",
      "\n",
      "$$ A_{2,2} := A_{2,2} - L_{2,1} L_{2,1}^H, $$\n",
      "\n",
      "where $L_{2,1}$ is a tall and skinny matrix instead of a single column vector. Furthermore, the derivation of the algorithm directly mirrors that of the unblocked algorithm (indeed, it uses the unblocked algorithm as a component!) and begins by exposing a small, square $O(1) \\times O(1)$ submatrix in the top-left corners of $A$ and $L$ rather than a single entry:\n",
      "\n",
      "$$ \\begin{pmatrix} A_{1,1} & A_{2,1}^H \\\\ A_{2,1} & A_{2,2} \\end{pmatrix} = \\begin{pmatrix} L_{1,1} & 0 \\\\ L_{2,1} & L_{2,2} \\end{pmatrix} \\begin{pmatrix} L_{1,1}^H & L_{2,1}^H \\\\ 0 & L_{2,2}^H \\end{pmatrix} = \\begin{pmatrix} L_{1,1} L_{1,1}^H & L_{1,1} L_{2,1}^H \\\\ L_{2,1} L_{1,1}^H & L_{2,1} L_{2,1}^H + L_{2,2} L_{2,2}^H \\end{pmatrix}. $$\n",
      "\n",
      "The exact dimension of $A_{1,1}$ and $L_{1,1}$ should be chosen based upon architectural considerations, such as L1 and L2 cache sizes, but values near 100 are common when the dimension of $A$ is at least a few thousand.\n",
      "\n",
      "We can now derive a *blocked* right-looking Cholesky factorization by again equating corresponding blocks of the partitioned matrices $A$ and $L L^H$, beginning with the relation $A_{1,1} = L_{1,1} L_{1,1}^H$, which can be solved for $L_{1,1}$ via our unblocked Cholesky factorization algorithm, ``CholUnb``. The equivalence $A_{2,1} = L_{2,1} L_{1,1}^H$ can be used to compute $L_{2,1}$ from $A_{2,1}$ and the newly-found $L_{1,1}$ via the BLAS routine [trsm](http://www.netlib.org/lapack/explore-html/de/da7/dtrsm_8f_source.html), which solves a *TR*iangular *S*ystem involving a *M*atrix. Once $L_{2,1}$ has been computed, its outer-product with itself can be subtracted from $A_{2,2}$ using an efficient kernel referred to as a *HE*rmitian *R*ank-*k* update ([herk](http://www.netlib.org/lapack/explore-html/d1/db1/zherk_8f_source.html)), which, for real matrices, is called a *SY*mmetric *R*ank-*k* update ([syrk](http://www.netlib.org/lapack/explore-html/dc/d05/dsyrk_8f_source.html)). Its efficiency is derived from the fact that $k$ multiplications and adds are performed for every entry of $A_{2,2}$ that is modified, which masks the fact that memory access speeds tend to be significantly slower than the theoretical peak floating-point performance."
     ]
    },
    {
     "cell_type": "code",
     "collapsed": false,
     "input": [
      "function Chol(A,bsize)\n",
      "    m,n = size(A);\n",
      "    # Blocked Cholesky\n",
      "    for k=1:bsize:n\n",
      "        nb = min(n-k+1,bsize);\n",
      "        ind1 = k:k+nb-1;\n",
      "        ind2 = k+nb:n;\n",
      "        A11 = sub(A,ind1,ind1);\n",
      "        A21 = sub(A,ind2,ind1);\n",
      "        A22 = sub(A,ind2,ind2);\n",
      "        \n",
      "        # A11 := Chol(A11) = L11\n",
      "        CholUnb(A11);\n",
      "        \n",
      "        # A21 := A21 inv(L11)^H\n",
      "        BLAS.trsm!('R','L','C','N',1.,A11,A21);\n",
      "        \n",
      "        # A22 := A22 - L21 L21^H\n",
      "        # NOTE: 'herk' does not fall through to 'syrk' for real matrices.\n",
      "        BLAS.syrk!('L','N',-1.,A21,1.,A22);\n",
      "    end\n",
      "end"
     ],
     "language": "python",
     "metadata": {},
     "outputs": [
      {
       "metadata": {},
       "output_type": "pyout",
       "prompt_number": 4,
       "text": [
        "Chol (generic function with 1 method)"
       ]
      }
     ],
     "prompt_number": 4
    },
    {
     "cell_type": "markdown",
     "metadata": {},
     "source": [
      "The above routine, ``Chol``, repeatedly exposes diagonal blocks of dimension ``bsize`` (except for perhaps the last iteration), factors the small diagonal block using an unblocked algorithm, solves a sequence of triangular systems using the Cholesky factor of the diagonal block, and then performs an efficient symmetric update of the remaining bottom-right quadrant using the solutions to the triangular systems.\n",
      "\n",
      "Two pieces of Julia-specific syntax are worth discussing:\n",
      "* The function [sub](http://julia.readthedocs.org/en/latest/stdlib/arrays/#Base.sub) is used to return a lightweight object which effectively points to a contiguous submatrix of $A$.\n",
      "* The \"!\" prefix on [``BLAS.trsm``](http://julia.readthedocs.org/en/latest/stdlib/linalg/#Base.LinAlg.BLAS.trsm!) and [``BLAS.syrk``](http://julia.readthedocs.org/en/latest/stdlib/linalg/#Base.LinAlg.BLAS.syrk!) denotes the fact that the input arguments ``A21`` and ``A22``, respectively, will be modified. \n",
      "\n",
      "It is now time to measure the performance of the blocked algorithm relative to the built-in \"\\\" operator, which would ideally call LAPACK's ``dpotrf`` followed by two triangular solves."
     ]
    },
    {
     "cell_type": "code",
     "collapsed": false,
     "input": [
      "# Time the blocked algorithm\n",
      "A = copy(AOrig);\n",
      "tic();\n",
      "Chol(A,96);\n",
      "blockTime=toq();\n",
      "println(\"blocked time: $blockTime\")\n",
      "\n",
      "# Check the error of the blocked algorithm\n",
      "L = tril(A);\n",
      "decompError=norm(AOrig - L*L');\n",
      "relDecompError=decompError/ANorm;\n",
      "println(\"|| A - L L' ||             = $decompError\")\n",
      "println(\"|| A - L L' || / || A ||   = $relDecompError\")\n",
      "# A = L L' implies inv(A) b = inv(L L') b = inv(L') inv(L) b\n",
      "x = L'\\(L\\b);\n",
      "residError=norm(b-AOrig*x);\n",
      "relResidError=residError/bNorm;\n",
      "println(\"|| b - A x ||_2             = $residError\")\n",
      "println(\"|| b - A x ||_2 / || b ||_2 = $relResidError\")\n",
      "\n",
      "# Time and check the error from the built-in solve\n",
      "tic();\n",
      "x = AOrig\\b;\n",
      "builtinTime=toq();\n",
      "println(\"built-in solve time: $builtinTime\")\n",
      "residError=norm(b-AOrig*x);\n",
      "relResidError=residError/bNorm;\n",
      "println(\"|| b - A x ||_2             = $residError (backslash)\")\n",
      "println(\"|| b - A x ||_2 / || b ||_2 = $relResidError (backslash)\")"
     ],
     "language": "python",
     "metadata": {},
     "outputs": [
      {
       "output_type": "stream",
       "stream": "stdout",
       "text": [
        "blocked time: 0.69307987\n",
        "|| A - L L' ||             = 4.364014655279667e-12\n",
        "|| A - L L' || / || A ||   = 1.0886593624393143e-15\n",
        "|| b - A x ||_2             = 6.457948068642932e-12\n",
        "|| b - A x ||_2 / || b ||_2 = 2.0497138939246873e-13\n",
        "built-in solve time: 0.291754306\n",
        "|| b - A x ||_2             = 6.409611260950687e-12 (backslash)\n",
        "|| b - A x ||_2 / || b ||_2 = 2.0343720817481795e-13 (backslash)\n"
       ]
      }
     ],
     "prompt_number": 5
    },
    {
     "cell_type": "markdown",
     "metadata": {},
     "source": [
      "As can be seen, without any tuning, our Julia implementation of a right-looking blocked Cholesky factorization, ``Chol``, is orders of magnitude faster than the unblocked algorithm and near the performance of the equivalent LAPACK implementation which drives the backslash operator."
     ]
    }
   ],
   "metadata": {}
  }
 ]
}