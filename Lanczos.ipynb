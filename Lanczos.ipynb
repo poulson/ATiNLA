{
 "metadata": {
  "language": "Julia",
  "name": ""
 },
 "nbformat": 3,
 "nbformat_minor": 0,
 "worksheets": [
  {
   "cells": [
    {
     "cell_type": "markdown",
     "metadata": {},
     "source": [
      "## Simple Lanczos demonstration\n"
     ]
    },
    {
     "cell_type": "code",
     "collapsed": false,
     "input": [
      "function SimpleLanczos(A,k,numReorthog=2)\n",
      "    m,n = size(A)\n",
      "    if m != n\n",
      "        error(\"A was expected to be square (and Hermitian)\")\n",
      "    end\n",
      "    \n",
      "    V = zeros(n,k)\n",
      "    d = zeros(k)\n",
      "    e = zeros(k-1)\n",
      "    \n",
      "    v0 = randn(n)\n",
      "    V[:,1] = v0 / norm(v0)\n",
      "    \n",
      "    v = zeros(n)\n",
      "    beta = zeros(1)\n",
      "    \n",
      "    for j=1:k\n",
      "        Vj = V[:,1:j]\n",
      "        vj = V[:,j]\n",
      "\n",
      "        # w := w - vj(vj' w) = w - vj (vj' A vj)\n",
      "        w = A*vj\n",
      "        d[j] = (vj'*w)[1]\n",
      "        w = w - vj*d[j]\n",
      "            \n",
      "        if j > 1\n",
      "            # w := w - vjm1 (vjm1' w)\n",
      "            vjm1 = V[:,j-1]\n",
      "            e[j-1] = (vjm1'*w)[1]\n",
      "            w = w - vjm1*e[j-1]\n",
      "        end\n",
      "            \n",
      "        for l=1:numReorthog\n",
      "            if j > 2\n",
      "                VPrev = V[:,1:j-2]\n",
      "                w = w - VPrev*(VPrev'*w)\n",
      "            end\n",
      "            \n",
      "            deltaMod = (vj'*w)[1]\n",
      "            d[j] += deltaMod\n",
      "            w = w - vj*deltaMod\n",
      "            \n",
      "            if j > 1\n",
      "                vjm1 = V[:,j-1]\n",
      "                epsMod = (vjm1'*w)[1]\n",
      "                e[j-1] += epsMod\n",
      "                w = w - vjm1*epsMod\n",
      "            end\n",
      "        end\n",
      "        \n",
      "        beta = norm(w)\n",
      "        v = w/beta\n",
      "        if j < k\n",
      "            V[:,j+1] = v\n",
      "            d[j+1] = beta\n",
      "        end\n",
      "    end\n",
      "    \n",
      "    T = SymTridiagonal(d,e)\n",
      "    w, Z = eig(T)\n",
      "    X = V*Z\n",
      "    \n",
      "    w, X, V, full(T), v, beta \n",
      "end"
     ],
     "language": "python",
     "metadata": {},
     "outputs": [
      {
       "metadata": {},
       "output_type": "pyout",
       "prompt_number": 1,
       "text": [
        "SimpleLanczos (generic function with 2 methods)"
       ]
      }
     ],
     "prompt_number": 1
    },
    {
     "cell_type": "code",
     "collapsed": false,
     "input": [
      "n = 1000;\n",
      "A = randn(n,n);\n",
      "A = A+A';\n",
      "k = 500;\n",
      "numCheck = 50;\n",
      "\n",
      "for numReorthog=0:2\n",
      "    println(\"Testing with $numReorthog reorthogonalizations\")\n",
      "    w, X, V, T, v, beta = SimpleLanczos(A,k,numReorthog);\n",
      "    println(\"|| I - V' V ||_2 = \",norm(eye(k,k)-V'*V))\n",
      "    println(\"|| A V - V T - v(beta e_k)^T ||_2 = \",norm(A*V-V*T-v*(beta*[zeros(1,k-1) 1])))\n",
      "    println(\"beta = \",beta)\n",
      "    w0 = w[1:numCheck]\n",
      "    X0 = X[:,1:numCheck]\n",
      "    println(\"|| A X0 - X0 diag(w0) ||_2 = \",norm(A*X0-X0*diagm(w0)))\n",
      "    println(\"\\n\")\n",
      "end"
     ],
     "language": "python",
     "metadata": {},
     "outputs": [
      {
       "output_type": "stream",
       "stream": "stdout",
       "text": [
        "Testing with 0 reorthogonalizations\n"
       ]
      },
      {
       "output_type": "stream",
       "stream": "stdout",
       "text": [
        "|| I - V' V ||_2 = "
       ]
      },
      {
       "output_type": "stream",
       "stream": "stdout",
       "text": [
        "3"
       ]
      },
      {
       "output_type": "stream",
       "stream": "stdout",
       "text": [
        ".9999999999603104\n",
        "|| A V - V T - v(beta e_k)^T ||_2 = "
       ]
      },
      {
       "output_type": "stream",
       "stream": "stdout",
       "text": [
        "6.083219787889306e-14\n",
        "beta = 40.315895376439784\n",
        "|| A X0 - X0 diag(w0) ||_2 = 1.752228663062034\n",
        "\n",
        "\n",
        "Testing with 1 reorthogonalizations\n",
        "|| I - V' V ||_2 = "
       ]
      },
      {
       "output_type": "stream",
       "stream": "stdout",
       "text": [
        "1.1520993068307044e-15\n",
        "|| A V - V T - v(beta e_k)^T ||_2 = "
       ]
      },
      {
       "output_type": "stream",
       "stream": "stdout",
       "text": [
        "6.952568290125666e-14\n",
        "beta = 31.804985787572797\n",
        "|| A X0 - X0 diag(w0) ||_2 = 1.2725252983760247e-13\n",
        "\n",
        "\n",
        "Testing with 2 reorthogonalizations\n",
        "|| I - V' V ||_2 = "
       ]
      },
      {
       "output_type": "stream",
       "stream": "stdout",
       "text": [
        "1.1016803783409097e-15\n",
        "|| A V - V T - v(beta e_k)^T ||_2 = "
       ]
      },
      {
       "output_type": "stream",
       "stream": "stdout",
       "text": [
        "7.04006723706339e-14\n",
        "beta = 32.72864177374971\n",
        "|| A X0 - X0 diag(w0) ||_2 = 1.2851997562413766e-13\n",
        "\n",
        "\n"
       ]
      }
     ],
     "prompt_number": 2
    }
   ],
   "metadata": {}
  }
 ]
}